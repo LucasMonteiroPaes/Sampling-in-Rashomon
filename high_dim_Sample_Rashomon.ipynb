{
 "cells": [
  {
   "cell_type": "code",
   "execution_count": 39,
   "id": "fbca88cf",
   "metadata": {},
   "outputs": [],
   "source": [
    "# Importing libraries\n",
    "from copy import deepcopy\n",
    "\n",
    "# Math Libraries\n",
    "import random\n",
    "import math\n",
    "import numpy as np\n",
    "\n",
    "# Data Processing\n",
    "import pandas as pd\n",
    "\n",
    "# Libraries for data visualization\n",
    "import matplotlib.pyplot as plt  \n",
    "import seaborn as sns \n",
    "\n",
    "# ML\n",
    "from sklearn.linear_model import LogisticRegression # Importing Logistic Model\n",
    "from sklearn.model_selection import train_test_split # Train Test Split\n",
    "from sklearn.preprocessing import MinMaxScaler # Data normalizer Min Max Scale\n",
    "from sklearn.metrics import accuracy_score, mean_squared_error # Calculate the accuracy\n",
    "\n",
    "# Loading Bar\n",
    "from time import sleep\n",
    "from tqdm import tqdm\n",
    "import time\n",
    "\n",
    "# Linear programming\n",
    "from scipy.optimize import linprog\n",
    "\n",
    "\n",
    "# Convex Hull\n",
    "from scipy.spatial import ConvexHull, convex_hull_plot_2d, Delaunay\n",
    "from numpy.linalg import det\n",
    "from scipy.stats import dirichlet\n",
    "from scipy.spatial.distance import euclidean\n",
    "\n",
    "\n",
    "# Supress warnings\n",
    "import warnings; warnings.simplefilter('ignore')"
   ]
  },
  {
   "cell_type": "code",
   "execution_count": 40,
   "id": "418f2ba4",
   "metadata": {},
   "outputs": [],
   "source": [
    "# Loading Dataset\n",
    "adult_folder = pd.read_csv('adult.csv') # Loading Adult"
   ]
  },
  {
   "cell_type": "code",
   "execution_count": 41,
   "id": "979d140c",
   "metadata": {},
   "outputs": [],
   "source": [
    "def Adult_Data_Clean(df: pd.DataFrame) -> pd.DataFrame:\n",
    "  # Changing collumn names for convenience\n",
    "  df.rename(columns={'capital-gain': 'gain', 'capital-loss': 'loss', 'native-country': 'country',\n",
    "                    'hours-per-week': 'hours','marital-status': 'marital'}, inplace=True)\n",
    "  \n",
    "  # Finding not known data\n",
    "  df['country'] = df['country'].replace('?',np.nan)\n",
    "  df['workclass'] = df['workclass'].replace('?',np.nan)\n",
    "  df['occupation'] = df['occupation'].replace('?',np.nan)\n",
    "  \n",
    "  # Dropping not known data\n",
    "  df.dropna(how='any',inplace=True)\n",
    "\n",
    "  # Normalizing numerical features\n",
    "  numerical = ['age', 'fnlwgt', 'educational-num', 'gain', 'loss', 'hours']\n",
    "  scaler = MinMaxScaler()\n",
    "  df[numerical] = scaler.fit_transform(df[numerical])  \n",
    "  return df"
   ]
  },
  {
   "cell_type": "code",
   "execution_count": 42,
   "id": "3251a3b0",
   "metadata": {},
   "outputs": [],
   "source": [
    "adult_dataset = Adult_Data_Clean(adult_folder)\n",
    "\n",
    "# Separating label (income) from the rest of the data and making income binary\n",
    "income_raw = adult_dataset['income'].tolist()\n",
    "adult_dataset = adult_dataset.drop(['income'], axis=1)\n",
    "income = pd.Series(income_raw).astype('category').cat.codes.tolist()"
   ]
  },
  {
   "cell_type": "code",
   "execution_count": 43,
   "id": "714ca1b6",
   "metadata": {},
   "outputs": [
    {
     "name": "stdout",
     "output_type": "stream",
     "text": [
      "Total number of columns = 104\n"
     ]
    }
   ],
   "source": [
    "# One-Hot encoding\n",
    "per_adult_encoded = pd.get_dummies(adult_dataset)\n",
    "print(\"Total number of columns = \" + str(len(per_adult_encoded.columns)))"
   ]
  },
  {
   "cell_type": "code",
   "execution_count": 44,
   "id": "9b036bd1",
   "metadata": {},
   "outputs": [],
   "source": [
    "def d_dimensional_dataset(df, d):\n",
    "    \"return dataset with d columns\"\n",
    "    return df.sample(n=d, axis='columns')"
   ]
  },
  {
   "cell_type": "code",
   "execution_count": 53,
   "id": "98524599",
   "metadata": {},
   "outputs": [],
   "source": [
    "# Spliting dataset\n",
    "df = d_dimensional_dataset(per_adult_encoded, 20)\n",
    "X_train, X_test, Y_train, Y_test = train_test_split(df, income, test_size = 0.2, random_state = 0)"
   ]
  },
  {
   "cell_type": "code",
   "execution_count": 54,
   "id": "fb729a9a",
   "metadata": {},
   "outputs": [],
   "source": [
    "# Trining the Logistic regression classifier\n",
    "logistic = LogisticRegression(solver = 'liblinear')\n",
    "logistic.fit(X_train, Y_train)\n",
    "\n",
    "#Predicting\n",
    "y_test_pred = logistic.predict(X_test)\n",
    "y_train_pred = logistic.predict(X_train)"
   ]
  },
  {
   "cell_type": "code",
   "execution_count": 55,
   "id": "0e7543a3",
   "metadata": {},
   "outputs": [],
   "source": [
    "def test(model, qtd_data, x, y):\n",
    "    #Predicting\n",
    "    y_test_pred = model.predict(x[0:qtd_data])\n",
    "    #y_train_pred = model.predict(X_train)\n",
    "\n",
    "    # Getting accuracy for the personalized classifier\n",
    "    #per_train_acc = accuracy_score(Y_train, y_train_pred)\n",
    "    per_test_acc = accuracy_score(y[0:qtd_data], y_test_pred)\n",
    "    \n",
    "    # L2 score\n",
    "    #l2_train_acc = mean_squared_error(Y_train, y_train_pred)\n",
    "    l2_test_acc = mean_squared_error(y[0:qtd_data], y_test_pred)\n",
    "    \n",
    "    return per_test_acc,l2_test_acc"
   ]
  },
  {
   "cell_type": "code",
   "execution_count": 56,
   "id": "22a4f901",
   "metadata": {},
   "outputs": [],
   "source": [
    "def load_model(mw, pivot):\n",
    "    \"Load a model with new wights given by mw\"\n",
    "    model = deepcopy(pivot)\n",
    "    model.coef_ = mw\n",
    "    return model"
   ]
  },
  {
   "cell_type": "code",
   "execution_count": 65,
   "id": "5f54e3e6",
   "metadata": {},
   "outputs": [
    {
     "name": "stderr",
     "output_type": "stream",
     "text": [
      "100%|█████████████████████████████████████████| 100/100 [00:01<00:00, 53.43it/s]\n"
     ]
    }
   ],
   "source": [
    "center = logistic.coef_\n",
    "step = .01 #step size for each step in an direction\n",
    "samples = 100 #number of directions\n",
    "epsilon = 0.0001 #Rashomon set size\n",
    "\n",
    "extremes = np.zeros((samples, center.size))\n",
    "\n",
    "for i in tqdm(range(samples)):\n",
    "    #Generationg direction\n",
    "    Z = np.random.normal(loc=0.0, scale=1.0, size=center.size)\n",
    "    Z = Z/np.linalg.norm(Z)\n",
    "    direction = center + step * Z\n",
    "    #loading model\n",
    "    lg = load_model(direction, logistic)\n",
    "    ct = 0\n",
    "    while (test(lg, -1, X_test, Y_test)[1] - test(logistic, -1, X_test, Y_test)[1]) < epsilon:\n",
    "        extremes[i, :] = direction\n",
    "        direction *= (1+step)\n",
    "        lg = load_model(direction, logistic)\n",
    "        ct+=1"
   ]
  },
  {
   "cell_type": "code",
   "execution_count": 66,
   "id": "12a3222a",
   "metadata": {},
   "outputs": [
    {
     "data": {
      "text/plain": [
       "[<matplotlib.lines.Line2D at 0x14f8fbca0>]"
      ]
     },
     "execution_count": 66,
     "metadata": {},
     "output_type": "execute_result"
    },
    {
     "data": {
      "image/png": "[encoded data removed]",
      "text/plain": [
       "<Figure size 432x288 with 1 Axes>"
      ]
     },
     "metadata": {
      "needs_background": "light"
     },
     "output_type": "display_data"
    }
   ],
   "source": [
    "plt.plot(extremes[:, 0], extremes[:, 1], 'o')\n",
    "plt.plot(center[:, 0], center[:, 1], 'o')"
   ]
  },
  {
   "cell_type": "code",
   "execution_count": null,
   "id": "d059c0d9",
   "metadata": {},
   "outputs": [],
   "source": []
  },
  {
   "cell_type": "code",
   "execution_count": 83,
   "id": "db631b17",
   "metadata": {},
   "outputs": [
    {
     "data": {
      "text/plain": [
       "(80, 12)"
      ]
     },
     "execution_count": 83,
     "metadata": {},
     "output_type": "execute_result"
    }
   ],
   "source": []
  },
  {
   "cell_type": "code",
   "execution_count": 13,
   "id": "06cfa563",
   "metadata": {},
   "outputs": [],
   "source": [
    "# Sampling from Rashomon set\n",
    "def samp_in_hull(points, n):\n",
    "    dims = points.shape[-1] #get dim\n",
    "    hull = points[ConvexHull(points).vertices] #get hull\n",
    "    deln = hull[Delaunay(hull).simplices] #get Delunay\n",
    "\n",
    "    vols = np.abs(det(deln[:, :dims, :] - deln[:, dims:, :])) / np.math.factorial(dims) #get areas\n",
    "    sample = np.random.choice(len(vols), size = n, p = vols / vols.sum()) \n",
    "\n",
    "    return np.einsum('ijk, ij -> ik', deln[sample], dirichlet.rvs([1]*(dims + 1), size = n))"
   ]
  },
  {
   "cell_type": "code",
   "execution_count": 14,
   "id": "140186a3",
   "metadata": {},
   "outputs": [],
   "source": [
    "def in_hull(points, x):\n",
    "    n_points = len(points)\n",
    "    n_dim = len(x)\n",
    "    c = np.zeros(n_points)\n",
    "    A = np.r_[points.T,np.ones((1,n_points))]\n",
    "    b = np.r_[x, np.ones(1)]\n",
    "    lp = linprog(c, A_eq=A, b_eq=b)\n",
    "    return lp.success"
   ]
  },
  {
   "cell_type": "code",
   "execution_count": null,
   "id": "6ce11518",
   "metadata": {},
   "outputs": [],
   "source": [
    "def find_max_dist(L):\n",
    "    max_dist = math.dist(L[0], L[1])\n",
    "    for i in range(0, len(L)-1):\n",
    "        for j in range(i+1, len(L)):\n",
    "            max_dist = max(math.dist(L[i], L[j]), max_dist)\n",
    "            point_1 = L[i]\n",
    "            point_2 = L[j]\n",
    "    return max_dist, point_1, point_2"
   ]
  },
  {
   "cell_type": "code",
   "execution_count": 38,
   "id": "d9f87a51",
   "metadata": {},
   "outputs": [
    {
     "data": {
      "text/plain": [
       "     con: array([ 9.06275055e-13,  3.35509398e-12,  8.43414227e-12,  5.50282042e-12,\n",
       "       -2.76223489e-12,  8.97026897e-12, -7.54685203e-12, -1.03999032e-11,\n",
       "       -7.71605002e-14,  4.44227988e-14,  9.83865767e-13,  1.42885703e-12,\n",
       "        6.70064004e-12,  7.82880705e-14,  3.04756220e-12,  6.76592116e-12])\n",
       "     fun: 0.0\n",
       " message: 'Optimization terminated successfully.'\n",
       "     nit: 10\n",
       "   slack: array([], dtype=float64)\n",
       "  status: 0\n",
       " success: True\n",
       "       x: array([1.06116677e-04, 2.18663259e-05, 2.18663259e-05, 2.18663259e-05,\n",
       "       2.18663259e-05, 6.07953239e-02, 1.54552317e-04, 2.30008173e-04,\n",
       "       1.06504429e-01, 7.35660714e-05, 8.02024947e-05, 2.18663259e-05,\n",
       "       2.90539326e-05, 1.45373574e-04, 1.61142444e-02, 2.18663259e-05,\n",
       "       5.99246859e-05, 2.18663259e-05, 5.43228670e-04, 3.32796729e-05,\n",
       "       2.18663259e-05, 1.14447992e-04, 6.79172485e-03, 2.18663259e-05,\n",
       "       5.10621281e-02, 2.08034953e-04, 6.79944881e-05, 2.18663259e-05,\n",
       "       7.54096473e-05, 5.29598444e-02, 2.18663259e-05, 2.46105051e-04,\n",
       "       2.18663259e-05, 2.38052895e-03, 2.18663259e-05, 5.79434428e-04,\n",
       "       7.18637059e-05, 4.81682024e-05, 2.18663259e-05, 1.16171044e-04,\n",
       "       2.88805215e-05, 2.18663259e-05, 2.18663259e-05, 2.18663259e-05,\n",
       "       1.14216156e-04, 2.18663259e-05, 2.75380132e-04, 2.18663259e-05,\n",
       "       2.18663259e-05, 2.18663259e-05, 2.18663259e-05, 2.18663259e-05,\n",
       "       2.18663259e-05, 2.18663259e-05, 1.81410522e-01, 6.71752782e-05,\n",
       "       2.18663259e-05, 2.15153689e-02, 3.48728933e-04, 1.77734270e-02,\n",
       "       2.18663259e-05, 2.18663259e-05, 4.23079739e-04, 1.66965794e-05,\n",
       "       1.06745071e-01, 3.35068900e-05, 6.71822310e-05, 8.92948454e-05,\n",
       "       1.72249150e-04, 2.17662589e-02, 3.58336751e-04, 3.62789467e-03,\n",
       "       2.91341097e-02, 2.18663259e-05, 2.18663259e-05, 2.18663259e-05,\n",
       "       2.18985938e-04, 2.18663259e-05, 4.83587535e-05, 2.18663259e-05,\n",
       "       2.18663259e-05, 2.18663259e-05, 2.18663259e-05, 2.61252708e-05,\n",
       "       1.19441019e-04, 9.18496450e-06, 2.36014860e-01, 2.18663259e-05,\n",
       "       7.33127945e-02, 7.63787705e-05, 5.67056261e-05, 2.18663259e-05,\n",
       "       4.04795922e-04, 1.55719131e-04, 2.18663259e-05, 2.40337431e-03,\n",
       "       8.78287432e-05, 1.96233775e-04, 1.48617277e-04, 2.30926987e-03])"
      ]
     },
     "execution_count": 38,
     "metadata": {},
     "output_type": "execute_result"
    }
   ],
   "source": [
    "in_hull(extremes, center[0])\n",
    "\n",
    "points = extremes\n",
    "x = center[0]\n",
    "\n",
    "n_points = len(points)\n",
    "n_dim = len(x)\n",
    "    \n",
    "c = np.zeros(n_points)\n",
    "A = np.r_[points.T,np.ones((1,n_points))]\n",
    "\n",
    "b = np.r_[x, np.ones(1)]\n",
    "\n",
    "lp = linprog(c, A_eq=A, b_eq=b)\n",
    "\n",
    "lp n"
   ]
  },
  {
   "cell_type": "code",
   "execution_count": null,
   "id": "d942bf83",
   "metadata": {},
   "outputs": [],
   "source": []
  },
  {
   "cell_type": "code",
   "execution_count": null,
   "id": "77fe9e7e",
   "metadata": {},
   "outputs": [],
   "source": [
    "def ef_samp_in_hull(center, points, n):\n",
    "\n",
    "    #find maximum distance (can be faster)\n",
    "    max_dist = math.dist(points[0], center[0])\n",
    "    for i in range(len(points)):\n",
    "        if max_dist< math.dist(points[i], center[0]):\n",
    "            max_dist = math.dist(points[i], center[0])\n",
    "    \n",
    "#     # Sampling \n",
    "#     samples = np.zeros((n, points.shape[1]))\n",
    "#     count = 0\n",
    "#     while count < n:\n",
    "#         Z = np.random.normal(loc=0.0, scale=1.0, size=center.size)\n",
    "#         Z = Z/np.linalg.norm(Z)\n",
    "#         x = center[0] + max_dist * Z\n",
    "#         pt = in_hull(points, x)\n",
    "#         if pt:\n",
    "#             samples[count] = x\n",
    "#             count +=1\n",
    "        \n",
    "    \n",
    "    return max_dist"
   ]
  },
  {
   "cell_type": "code",
   "execution_count": null,
   "id": "512f30cf",
   "metadata": {},
   "outputs": [],
   "source": [
    "print(in_hull(extremes, center[0]))"
   ]
  },
  {
   "cell_type": "code",
   "execution_count": null,
   "id": "8bfd15cb",
   "metadata": {},
   "outputs": [],
   "source": [
    "ef_samp_in_hull(center, extremes, 1)"
   ]
  },
  {
   "cell_type": "code",
   "execution_count": null,
   "id": "52ef7a4c",
   "metadata": {},
   "outputs": [],
   "source": [
    "def get_samples_for_dimension(d):\n",
    "    df = d_dimensional_dataset(per_adult_encoded, d)\n",
    "    X_train, X_test, Y_train, Y_test = train_test_split(df, income, test_size = 0.5, random_state = 0)\n",
    "    \n",
    "    # Trining the Logistic regression classifier\n",
    "    logistic = LogisticRegression(solver = 'liblinear')\n",
    "    logistic.fit(X_train, Y_train)\n",
    "\n",
    "    #Predicting\n",
    "    y_test_pred = logistic.predict(X_test)\n",
    "    y_train_pred = logistic.predict(X_train)\n",
    "    \n",
    "    #Finding points in the border of the Rashomon set\n",
    "    center = logistic.coef_\n",
    "    delta = .005 #Size of initial noise\n",
    "    step = 1 #step size for each step in an direction\n",
    "    samples = 100 #number of directions\n",
    "    epsilon = 0.001 #Rashomon set size\n",
    "\n",
    "    extremes = np.zeros((samples, center.size))\n",
    "\n",
    "    for i in range(samples):\n",
    "        #Generationg direction\n",
    "        Z = np.random.normal(loc=0.0, scale=1.0, size=center.size)\n",
    "        Z = Z/np.linalg.norm(Z)\n",
    "        direction = center + delta * Z\n",
    "        #loading model\n",
    "        lg = load_model(direction, logistic)\n",
    "        ct = 0\n",
    "        while (test(lg, -1, X_test, Y_test)[1] - test(logistic, -1, X_test, Y_test)[1]) < epsilon and ct < 20:\n",
    "            extremes[i, :] = direction\n",
    "            direction *= (1 + step)\n",
    "            lg = load_model(direction, logistic)\n",
    "            ct+=1\n",
    "    \n",
    "    start = time.time()\n",
    "    samp_in_hull(extremes, 100)\n",
    "    end = time.time()\n",
    "\n",
    "    return end - start"
   ]
  },
  {
   "cell_type": "code",
   "execution_count": null,
   "id": "1fb538a6",
   "metadata": {},
   "outputs": [],
   "source": [
    "get_samples_for_dimension(5)"
   ]
  },
  {
   "cell_type": "code",
   "execution_count": null,
   "id": "2046cf1b",
   "metadata": {},
   "outputs": [],
   "source": [
    "qtd_t = 7\n",
    "dims = range(2, qtd_t+2)\n",
    "times = np.zeros(qtd_t)\n",
    "\n",
    "\n",
    "for i in tqdm(range(qtd_t)):\n",
    "    times[i] = get_samples_for_dimension(dims[i])\n",
    "    \n",
    "    "
   ]
  },
  {
   "cell_type": "code",
   "execution_count": null,
   "id": "5430acf3",
   "metadata": {},
   "outputs": [],
   "source": [
    "plt.plot(dims, times)\n",
    "plt.xlabel('Dimension')\n",
    "plt.ylabel('Time (s)')"
   ]
  },
  {
   "cell_type": "code",
   "execution_count": null,
   "id": "04ad5a4f",
   "metadata": {},
   "outputs": [],
   "source": []
  }
 ],
 "metadata": {
  "kernelspec": {
   "display_name": "Python 3 (ipykernel)",
   "language": "python",
   "name": "python3"
  },
  "language_info": {
   "codemirror_mode": {
    "name": "ipython",
    "version": 3
   },
   "file_extension": ".py",
   "mimetype": "text/x-python",
   "name": "python",
   "nbconvert_exporter": "python",
   "pygments_lexer": "ipython3",
   "version": "3.10.4"
  }
 },
 "nbformat": 4,
 "nbformat_minor": 5
}
