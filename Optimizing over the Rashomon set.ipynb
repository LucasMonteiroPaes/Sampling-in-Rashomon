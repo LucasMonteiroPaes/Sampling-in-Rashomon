{
 "cells": [
  {
   "cell_type": "code",
   "execution_count": 1,
   "id": "4ba386da",
   "metadata": {},
   "outputs": [],
   "source": [
    "# Importing libraries\n",
    "from copy import deepcopy\n",
    "import random\n",
    "\n",
    "\n",
    "# Math Libraries\n",
    "import random\n",
    "import math\n",
    "import numpy as np\n",
    "\n",
    "# Data Processing\n",
    "import pandas as pd\n",
    "\n",
    "# Libraries for data visualization\n",
    "import matplotlib.pyplot as plt  \n",
    "import seaborn as sns \n",
    "from sympy import var, plot_implicit\n",
    "\n",
    "# ML\n",
    "from sklearn.linear_model import LogisticRegression # Importing Logistic Model\n",
    "from sklearn.model_selection import train_test_split # Train Test Split\n",
    "from sklearn.preprocessing import MinMaxScaler # Data normalizer Min Max Scale\n",
    "from sklearn.metrics import accuracy_score, mean_squared_error, mean_absolute_error # Calculate the accuracy\n",
    "\n",
    "# Loading Bar\n",
    "from time import sleep\n",
    "from tqdm import tqdm\n",
    "\n",
    "# Convex Hull\n",
    "from scipy.spatial import ConvexHull, convex_hull_plot_2d, Delaunay\n",
    "from numpy.linalg import det\n",
    "from scipy.stats import dirichlet\n",
    "from scipy.spatial.distance import euclidean\n",
    "from scipy import stats as st\n",
    "from scipy.optimize import fmin_tnc\n",
    "\n",
    "# Supress warnings\n",
    "import warnings; warnings.simplefilter('ignore')"
   ]
  },
  {
   "cell_type": "markdown",
   "id": "8399a285",
   "metadata": {},
   "source": [
    "## Loading and treating the Adult Dataset"
   ]
  },
  {
   "cell_type": "code",
   "execution_count": 2,
   "id": "5ad61f2d",
   "metadata": {},
   "outputs": [],
   "source": [
    "# Loading Dataset\n",
    "adult_folder = pd.read_csv('adult.csv') # Loading Adult"
   ]
  },
  {
   "cell_type": "code",
   "execution_count": 3,
   "id": "6912eb10",
   "metadata": {},
   "outputs": [],
   "source": [
    "def Adult_Data_Clean(df: pd.DataFrame) -> pd.DataFrame:\n",
    "  # Changing collumn names for convenience\n",
    "  df.rename(columns={'capital-gain': 'gain', 'capital-loss': 'loss', 'native-country': 'country',\n",
    "                    'hours-per-week': 'hours','marital-status': 'marital'}, inplace=True)\n",
    "  \n",
    "  # Finding not known data\n",
    "  df['country'] = df['country'].replace('?',np.nan)\n",
    "  df['workclass'] = df['workclass'].replace('?',np.nan)\n",
    "  df['occupation'] = df['occupation'].replace('?',np.nan)\n",
    "  \n",
    "  # Dropping not known data\n",
    "  df.dropna(how='any',inplace=True)\n",
    "\n",
    "  # Normalizing numerical features\n",
    "  numerical = ['age', 'fnlwgt', 'educational-num', 'gain', 'loss', 'hours']\n",
    "  scaler = MinMaxScaler()\n",
    "  df[numerical] = scaler.fit_transform(df[numerical])  \n",
    "  return df"
   ]
  },
  {
   "cell_type": "code",
   "execution_count": 4,
   "id": "3a7e9a56",
   "metadata": {},
   "outputs": [],
   "source": [
    "adult_dataset = Adult_Data_Clean(adult_folder)\n",
    "\n",
    "# Separating label (income) from the rest of the data and making income binary\n",
    "income_raw = adult_dataset['income'].tolist()\n",
    "adult_dataset = adult_dataset.drop(['income'], axis=1)\n",
    "income = pd.Series(income_raw).astype('category').cat.codes.tolist()\n",
    "adult_dataset.drop(adult_dataset.columns.difference(['age', 'educational-num', 'gender', 'loss', 'hours']), 1, inplace=True)\n",
    "income = 2*np.array(income) - 1"
   ]
  },
  {
   "cell_type": "code",
   "execution_count": 5,
   "id": "f16b3aa0",
   "metadata": {},
   "outputs": [],
   "source": [
    "# One-Hot encoding\n",
    "per_adult_encoded = pd.get_dummies(adult_dataset)"
   ]
  },
  {
   "cell_type": "code",
   "execution_count": 6,
   "id": "2f43f211",
   "metadata": {},
   "outputs": [],
   "source": [
    "# Spliting dataset\n",
    "X_train, X_test, Y_train, Y_test = train_test_split(per_adult_encoded, income, test_size = 0.5, random_state = 0)"
   ]
  },
  {
   "cell_type": "code",
   "execution_count": 7,
   "id": "f6d061db",
   "metadata": {},
   "outputs": [],
   "source": [
    "def test(model, qtd_data):\n",
    "    #Predicting\n",
    "    y_test_pred = model.predict(X_test[0:qtd_data])\n",
    "    #y_train_pred = model.predict(X_train)\n",
    "\n",
    "    # Getting accuracy for the personalized classifier\n",
    "    #per_train_acc = accuracy_score(Y_train, y_train_pred)\n",
    "    #per_test_acc = accuracy_score(Y_test[0:qtd_data], y_test_pred)\n",
    "    \n",
    "    # L2 score\n",
    "    #l2_train_acc = mean_squared_error(Y_train, y_train_pred)\n",
    "    l2_test_acc = mean_squared_error(Y_test[0:qtd_data], y_test_pred)\n",
    "    \n",
    "    return l2_test_acc"
   ]
  },
  {
   "cell_type": "markdown",
   "id": "45e6bd6c",
   "metadata": {},
   "source": [
    "## Sampling in Convex Hull"
   ]
  },
  {
   "cell_type": "code",
   "execution_count": 8,
   "id": "df7b05c4",
   "metadata": {},
   "outputs": [],
   "source": [
    "def samp_in_hull_after(deln, vols, n):\n",
    "    sample = np.random.choice(len(vols), size = n, p = vols / vols.sum())\n",
    "    \n",
    "    return np.einsum('ijk, ij -> ik', deln[sample], dirichlet.rvs([1]*(dims + 1), size = n))"
   ]
  },
  {
   "cell_type": "markdown",
   "id": "971d8eed",
   "metadata": {},
   "source": [
    "# Implementing Ridge Classifier"
   ]
  },
  {
   "cell_type": "code",
   "execution_count": 9,
   "id": "a27389b3",
   "metadata": {},
   "outputs": [],
   "source": [
    "def get_ridge(X, Y, alpha):\n",
    "    return np.linalg.inv(X.T@X + alpha*np.identity(X.shape[1])) @ X.T @ Y\n",
    "\n",
    "def get_ridge_prediction(parameter, X):\n",
    "    return X@parameter\n",
    "\n",
    "def get_ridge_l2_loss(parameter, alpha, X, Y):\n",
    "    fp = Y - X@parameter\n",
    "    n = X.shape[0]\n",
    "    return (np.dot(fp, fp) + alpha * np.dot(parameter, parameter) )\n",
    "\n",
    "def get_thresholded(pred):\n",
    "    return 2*(pred > 0)*1 - 1"
   ]
  },
  {
   "cell_type": "code",
   "execution_count": 10,
   "id": "293767e1",
   "metadata": {},
   "outputs": [],
   "source": [
    "alpha = 1\n",
    "np_X = X_train.to_numpy()\n",
    "omega_hat = get_ridge(np_X, Y_train, alpha)\n",
    "pred = get_ridge_prediction(omega_hat, np_X)"
   ]
  },
  {
   "cell_type": "markdown",
   "id": "fcebea6b",
   "metadata": {},
   "source": [
    "## Calculating the Rashomon boundary "
   ]
  },
  {
   "cell_type": "code",
   "execution_count": 13,
   "id": "6ca17de8",
   "metadata": {},
   "outputs": [
    {
     "name": "stderr",
     "output_type": "stream",
     "text": [
      "100%|███████████████████████████████████████| 1000/1000 [06:14<00:00,  2.67it/s]\n"
     ]
    }
   ],
   "source": [
    "center = omega_hat\n",
    "delta = 0.1 #Size of initial noise\n",
    "step = 0.0001 #step size for each step in an direction\n",
    "samples = 1000 #number of directions\n",
    "qtd_points = np_X.shape[0]\n",
    "epsilon = 0.1 * qtd_points #Rashomon set size\n",
    "\n",
    "extremes_l = np.zeros((samples, center.size))\n",
    "early_stopping_exploration = 1000\n",
    "for i in tqdm(range(samples)):\n",
    "    #Generationg direction\n",
    "    Z = np.random.normal(loc=0.0, scale=1.0, size=center.size)\n",
    "    Z = Z/np.linalg.norm(Z)\n",
    "    direction = center + delta * Z\n",
    "    #loading model\n",
    "    ct = 1\n",
    "    while (get_ridge_l2_loss(direction, alpha, np_X, Y_train) - get_ridge_l2_loss(omega_hat, alpha, np_X, Y_train)) < epsilon:\n",
    "        extremes_l[i, :] = direction\n",
    "        direction = center + ct*delta*Z\n",
    "        ct += 1\n",
    "        if ct==early_stopping_exploration:\n",
    "            break"
   ]
  },
  {
   "cell_type": "markdown",
   "id": "ad6aa031",
   "metadata": {},
   "source": [
    "## Calculating the Convex hull, delaunay triangulation, and triangle volumes "
   ]
  },
  {
   "cell_type": "code",
   "execution_count": 14,
   "id": "d435096d",
   "metadata": {},
   "outputs": [],
   "source": [
    "dims = extremes_l.shape[-1] #get dim\n",
    "hull = extremes_l[ConvexHull(extremes_l).vertices] #get hull\n",
    "deln = hull[Delaunay(hull).simplices] #get Delunay\n",
    "vols = np.abs(det(deln[:, :dims, :] - deln[:, dims:, :])) / np.math.factorial(dims) #get areas"
   ]
  },
  {
   "cell_type": "code",
   "execution_count": 15,
   "id": "ba0496ed",
   "metadata": {},
   "outputs": [],
   "source": [
    "random_model = samp_in_hull_after(deln, vols, 1)"
   ]
  },
  {
   "cell_type": "markdown",
   "id": "02ea037e",
   "metadata": {},
   "source": [
    "## Getting fair model in the Rashomon set"
   ]
  },
  {
   "cell_type": "code",
   "execution_count": 16,
   "id": "fb3c2fd5",
   "metadata": {},
   "outputs": [],
   "source": [
    "def fairness_score(parameter, X, Y):\n",
    "    \n",
    "    Female_X = X[X['gender_Female'] == 1]\n",
    "    Female_Y = Y[X['gender_Female'] == 1]\n",
    "    \n",
    "    Male_X = X[X['gender_Male'] == 1]\n",
    "    Male_Y = Y[X['gender_Male'] == 1]\n",
    "\n",
    "    #Making prediction\n",
    "    Female_pred = get_thresholded(get_ridge_prediction(parameter, Female_X))\n",
    "    Male_pred = get_thresholded(get_ridge_prediction(parameter, Male_X))\n",
    "    \n",
    "    return np.abs(np.mean(Female_pred == Female_Y) - np.mean(Male_pred == Male_Y))"
   ]
  },
  {
   "cell_type": "code",
   "execution_count": 17,
   "id": "4f25ea95",
   "metadata": {},
   "outputs": [],
   "source": [
    "trials = 3000\n",
    "fair_par = omega_hat\n",
    "random_models = samp_in_hull_after(deln, vols, trials)\n",
    "\n",
    "for i in range(trials):\n",
    "    if fairness_score(random_models[i], X_train, Y_train) < fairness_score(fair_par, X_train, Y_train):\n",
    "        fair_par = random_models[i]"
   ]
  },
  {
   "cell_type": "code",
   "execution_count": 18,
   "id": "2c68d818",
   "metadata": {},
   "outputs": [
    {
     "data": {
      "text/plain": [
       "0.1363591596760535"
      ]
     },
     "execution_count": 18,
     "metadata": {},
     "output_type": "execute_result"
    }
   ],
   "source": [
    " fairness_score(omega_hat, X_train, Y_train)"
   ]
  },
  {
   "cell_type": "markdown",
   "id": "edb58caa",
   "metadata": {},
   "source": [
    "## Fairness vs Rashomon level tradeoff"
   ]
  },
  {
   "cell_type": "code",
   "execution_count": 106,
   "id": "b1047bf0",
   "metadata": {},
   "outputs": [
    {
     "name": "stderr",
     "output_type": "stream",
     "text": [
      "100%|████████████████████████████████████████| 39/39 [1:56:38<00:00, 179.44s/it]\n"
     ]
    }
   ],
   "source": [
    "center = omega_hat\n",
    "delta = 0.1 #Size of initial noise\n",
    "step = 0.0001 #step size for each step in an direction\n",
    "samples = 1000 #number of directions\n",
    "qtd_points = np_X.shape[0]\n",
    "stepp = 0.005\n",
    "eps = np.arange(0.01, 0.2 + stepp, stepp)\n",
    "epsilon = eps * qtd_points #Rashomon set size\n",
    "trials = 10000\n",
    "extremes_l = np.zeros((samples, center.size))\n",
    "early_stopping_exploration = 1000\n",
    "fair_gain = np.zeros((len(eps), trials))\n",
    "ACC_loss = np.zeros((len(eps), trials))\n",
    "\n",
    "fair_par = omega_hat\n",
    "\n",
    "for j in tqdm(range(len(eps))):\n",
    "    for i in range(samples):\n",
    "        #Generationg direction\n",
    "        Z = np.random.normal(loc=0.0, scale=1.0, size=center.size)\n",
    "        Z = Z/np.linalg.norm(Z)\n",
    "        direction = center + delta * Z\n",
    "        #loading model\n",
    "        ct = 1\n",
    "        while (get_ridge_l2_loss(direction, alpha, np_X, Y_train) - get_ridge_l2_loss(omega_hat, alpha, np_X, Y_train)) < epsilon[j]:\n",
    "            extremes_l[i, :] = direction\n",
    "            direction = center + ct*delta*Z\n",
    "            ct += 1\n",
    "            if ct==early_stopping_exploration:\n",
    "                break\n",
    "\n",
    "    dims = extremes_l.shape[-1] #get dim\n",
    "    hull = extremes_l[ConvexHull(extremes_l).vertices] #get hull\n",
    "    deln = hull[Delaunay(hull).simplices] #get Delunay\n",
    "    vols = np.abs(det(deln[:, :dims, :] - deln[:, dims:, :])) / np.math.factorial(dims) #get areas\n",
    "        \n",
    "    random_models = samp_in_hull_after(deln, vols, trials)\n",
    "\n",
    "    for l in range(trials):\n",
    "        #if fairness_score(random_models[i], X_train, Y_train) < fairness_score(fair_par, X_train, Y_train):\n",
    "        fair_par = random_models[l]\n",
    "        fair_gain[j, l] = fairness_score(fair_par, X_train, Y_train)\n",
    "    \n",
    "        ACC_loss[j, l] =  np.mean(get_thresholded(get_ridge_prediction(fair_par, X_train)) == Y_train)\n",
    "    "
   ]
  },
  {
   "cell_type": "code",
   "execution_count": 107,
   "id": "c4b47b49",
   "metadata": {},
   "outputs": [],
   "source": [
    "fair_plt = np.min(fair_gain, axis = 1)"
   ]
  },
  {
   "cell_type": "code",
   "execution_count": 108,
   "id": "7e2d7530",
   "metadata": {},
   "outputs": [
    {
     "data": {
      "image/png": "[encoded data removed]",
      "text/plain": [
       "<Figure size 432x288 with 1 Axes>"
      ]
     },
     "metadata": {
      "needs_background": "light"
     },
     "output_type": "display_data"
    }
   ],
   "source": [
    "plt.plot(eps, 100*fair_plt, color = 'black')\n",
    "plt.xlim([0,0.2])\n",
    "plt.ylim([0, 15])\n",
    "plt.xlabel(r'Rashomon level ($\\epsilon$)')\n",
    "plt.ylabel(r'Fairness Gain (%)')\n",
    "plt.title('Fairness Rashomon level trade-off: Female vs Male')\n",
    "plt.savefig('Fairness_Rashomon _level_trade-off.pdf')"
   ]
  },
  {
   "cell_type": "code",
   "execution_count": 109,
   "id": "9cbf3666",
   "metadata": {},
   "outputs": [],
   "source": [
    "aux_fair_gain = fair_gain"
   ]
  },
  {
   "cell_type": "code",
   "execution_count": 110,
   "id": "04cfca58",
   "metadata": {},
   "outputs": [],
   "source": [
    "n_eps, n_samples = aux_fair_gain.shape\n",
    "all_labels = np.repeat(eps, n_samples)\n",
    "labels = np.zeros(39*trials + 1)\n",
    "labels[0] = 0\n",
    "labels[1:] = all_labels\n",
    "\n",
    "in_coloumn_values = np.zeros(39*trials + 1)\n",
    "in_coloumn_values[0] = 100 * fairness_score(center, X_train, Y_train)\n",
    "in_coloumn_values[1:] = 100 * aux_fair_gain.reshape(39*trials)"
   ]
  },
  {
   "cell_type": "code",
   "execution_count": 111,
   "id": "04d8bfa4",
   "metadata": {},
   "outputs": [],
   "source": [
    "data = {r'Rashomon level ($\\epsilon$)':  labels,\n",
    "        r'Loss parity (%)': in_coloumn_values,\n",
    "        }\n",
    "\n",
    "df = pd.DataFrame(data)"
   ]
  },
  {
   "cell_type": "code",
   "execution_count": 112,
   "id": "a3de7070",
   "metadata": {},
   "outputs": [
    {
     "data": {
      "image/png": "[encoded data removed]",
      "text/plain": [
       "<Figure size 432x288 with 1 Axes>"
      ]
     },
     "metadata": {
      "needs_background": "light"
     },
     "output_type": "display_data"
    }
   ],
   "source": [
    "sns.lineplot(data=df, x=r'Rashomon level ($\\epsilon$)', y=r'Loss parity (%)', estimator = 'min')\n",
    "plt.xlim([0,0.2])\n",
    "plt.ylim([0,14])\n",
    "plt.title('Fairness Rashomon level trade-off: Female vs Male')\n",
    "plt.savefig('Fairness_Rashomon _level_trade-off.pdf')"
   ]
  },
  {
   "cell_type": "code",
   "execution_count": 56,
   "id": "2c000a1b",
   "metadata": {},
   "outputs": [
    {
     "ename": "ValueError",
     "evalue": "could not broadcast input array from shape (39,4000) into shape (156000,)",
     "output_type": "error",
     "traceback": [
      "\u001b[0;31m---------------------------------------------------------------------------\u001b[0m",
      "\u001b[0;31mValueError\u001b[0m                                Traceback (most recent call last)",
      "Input \u001b[0;32mIn [56]\u001b[0m, in \u001b[0;36m<cell line: 3>\u001b[0;34m()\u001b[0m\n\u001b[1;32m      1\u001b[0m all_g\u001b[38;5;241m=\u001b[39m np\u001b[38;5;241m.\u001b[39mzeros(fair_gain\u001b[38;5;241m.\u001b[39msize \u001b[38;5;241m+\u001b[39m \u001b[38;5;241m1\u001b[39m)\n\u001b[1;32m      2\u001b[0m all_g[\u001b[38;5;241m0\u001b[39m] \u001b[38;5;241m=\u001b[39m \u001b[38;5;241m0.1363591596760535\u001b[39m\n\u001b[0;32m----> 3\u001b[0m all_g[\u001b[38;5;241m1\u001b[39m:] \u001b[38;5;241m=\u001b[39m fair_gain\n\u001b[1;32m      5\u001b[0m plt\u001b[38;5;241m.\u001b[39mplot([\u001b[38;5;241m0\u001b[39m] \u001b[38;5;241m+\u001b[39m \u001b[38;5;28mlist\u001b[39m(eps), \u001b[38;5;241m100\u001b[39m\u001b[38;5;241m*\u001b[39mall_g, color \u001b[38;5;241m=\u001b[39m \u001b[38;5;124m'\u001b[39m\u001b[38;5;124mblack\u001b[39m\u001b[38;5;124m'\u001b[39m)\n\u001b[1;32m      6\u001b[0m plt\u001b[38;5;241m.\u001b[39mxlim([\u001b[38;5;241m0\u001b[39m,\u001b[38;5;241m0.2\u001b[39m])\n",
      "\u001b[0;31mValueError\u001b[0m: could not broadcast input array from shape (39,4000) into shape (156000,)"
     ]
    }
   ],
   "source": [
    "all_g= np.zeros(fair_gain.size + 1)\n",
    "all_g[0] = 0.1363591596760535\n",
    "all_g[1:] = fair_gain\n",
    "\n",
    "plt.plot([0] + list(eps), 100*all_g, color = 'black')\n",
    "plt.xlim([0,0.2])\n",
    "plt.ylim([0, 15])\n",
    "plt.xlabel(r'Rashomon level ($\\epsilon$)')\n",
    "plt.ylabel(r'Fairness Gain (%)')\n",
    "plt.title('Fairness Rashomon level trade-off: Female vs Male')\n",
    "plt.savefig('Fairness_Rashomon _level_trade-off.pdf')"
   ]
  },
  {
   "cell_type": "code",
   "execution_count": 38,
   "id": "e4ec5a13",
   "metadata": {},
   "outputs": [
    {
     "data": {
      "image/png": "[encoded data removed]",
      "text/plain": [
       "<Figure size 432x288 with 1 Axes>"
      ]
     },
     "metadata": {
      "needs_background": "light"
     },
     "output_type": "display_data"
    }
   ],
   "source": [
    "optimal_model_acc = np.mean(get_thresholded(get_ridge_prediction(omega_hat, X_train)) == Y_train)\n",
    "plt.plot(eps, 100*ACC_loss, color = 'black', label = 'Loss parity minimizer')\n",
    "plt.plot(eps, 100*optimal_model_acc*np.ones(ACC_loss.size), color = 'green', label = 'Optimal model')\n",
    "plt.legend()\n",
    "\n",
    "plt.xlim([0,0.2])\n",
    "plt.xlabel(r'Rashomon level ($\\epsilon$)')\n",
    "plt.ylabel(r'Fair model Accuracy (%)')\n",
    "\n",
    "plt.title('Accuracy Rashomon level trade-off: Female vs Male')\n",
    "plt.savefig('Accuracy_Rashomon _level_trade-off.pdf')\n"
   ]
  },
  {
   "cell_type": "code",
   "execution_count": 144,
   "id": "80fe9a18",
   "metadata": {},
   "outputs": [
    {
     "data": {
      "image/png": "[encoded data removed]",
      "text/plain": [
       "<Figure size 432x288 with 1 Axes>"
      ]
     },
     "metadata": {
      "needs_background": "light"
     },
     "output_type": "display_data"
    }
   ],
   "source": [
    "plt.plot(100*fair_gain+100*fairness_score(omega_hat, X_train, Y_train), 100*ACC_loss, color = 'black')\n",
    "\n",
    "plt.ylabel(r'Fair model accuracy (%)')\n",
    "plt.xlabel(r'Loss parity (%)')\n",
    "\n",
    "plt.title('Accuracy Fairness trade-off: Female vs Male')\n",
    "plt.savefig('Accuracy_Fairness_trade-off.pdf')"
   ]
  }
 ],
 "metadata": {
  "kernelspec": {
   "display_name": "Python 3 (ipykernel)",
   "language": "python",
   "name": "python3"
  },
  "language_info": {
   "codemirror_mode": {
    "name": "ipython",
    "version": 3
   },
   "file_extension": ".py",
   "mimetype": "text/x-python",
   "name": "python",
   "nbconvert_exporter": "python",
   "pygments_lexer": "ipython3",
   "version": "3.10.4"
  }
 },
 "nbformat": 4,
 "nbformat_minor": 5
}
