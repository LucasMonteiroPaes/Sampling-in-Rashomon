{
 "cells": [
  {
   "cell_type": "code",
   "execution_count": 1,
   "id": "06044bc4",
   "metadata": {},
   "outputs": [],
   "source": [
    "# Importing libraries\n",
    "from copy import deepcopy\n",
    "import random\n",
    "\n",
    "\n",
    "# Math Libraries\n",
    "import random\n",
    "import math\n",
    "import numpy as np\n",
    "\n",
    "# Data Processing\n",
    "import pandas as pd\n",
    "\n",
    "# Libraries for data visualization\n",
    "import matplotlib.pyplot as plt  \n",
    "import seaborn as sns \n",
    "from sympy import var, plot_implicit\n",
    "\n",
    "# ML\n",
    "from sklearn.linear_model import LogisticRegression # Importing Logistic Model\n",
    "from sklearn.model_selection import train_test_split # Train Test Split\n",
    "from sklearn.preprocessing import MinMaxScaler # Data normalizer Min Max Scale\n",
    "from sklearn.metrics import accuracy_score, mean_squared_error, mean_absolute_error # Calculate the accuracy\n",
    "\n",
    "# Loading Bar\n",
    "from time import sleep\n",
    "from tqdm import tqdm\n",
    "\n",
    "# Convex Hull\n",
    "from scipy.spatial import ConvexHull, convex_hull_plot_2d, Delaunay\n",
    "from numpy.linalg import det\n",
    "from scipy.stats import dirichlet\n",
    "from scipy.spatial.distance import euclidean\n",
    "from scipy import stats as st\n",
    "from scipy.optimize import fmin_tnc\n",
    "\n",
    "# Supress warnings\n",
    "import warnings; warnings.simplefilter('ignore')"
   ]
  },
  {
   "cell_type": "code",
   "execution_count": 2,
   "id": "3ce64cec",
   "metadata": {},
   "outputs": [],
   "source": [
    "def Adult_Data_Clean(df: pd.DataFrame) -> pd.DataFrame:\n",
    "  # Changing collumn names for convenience\n",
    "  df.rename(columns={'capital-gain': 'gain', 'capital-loss': 'loss', 'native-country': 'country',\n",
    "                    'hours-per-week': 'hours','marital-status': 'marital'}, inplace=True)\n",
    "  \n",
    "  # Finding not known data\n",
    "  df['country'] = df['country'].replace('?',np.nan)\n",
    "  df['workclass'] = df['workclass'].replace('?',np.nan)\n",
    "  df['occupation'] = df['occupation'].replace('?',np.nan)\n",
    "  \n",
    "  # Dropping not known data\n",
    "  df.dropna(how='any',inplace=True)\n",
    "\n",
    "  # Normalizing numerical features\n",
    "  numerical = ['age', 'fnlwgt', 'educational-num', 'gain', 'loss', 'hours']\n",
    "  scaler = MinMaxScaler()\n",
    "  df[numerical] = scaler.fit_transform(df[numerical])  \n",
    "  return df"
   ]
  },
  {
   "cell_type": "code",
   "execution_count": 3,
   "id": "10426981",
   "metadata": {},
   "outputs": [],
   "source": [
    "# Loading Dataset\n",
    "adult_folder = pd.read_csv('adult.csv') # Loading Adult"
   ]
  },
  {
   "cell_type": "code",
   "execution_count": 4,
   "id": "05f8e495",
   "metadata": {},
   "outputs": [],
   "source": [
    "adult_dataset = Adult_Data_Clean(adult_folder)\n",
    "\n",
    "# Separating label (income) from the rest of the data and making income binary\n",
    "income_raw = adult_dataset['income'].tolist()\n",
    "adult_dataset = adult_dataset.drop(['income'], axis=1)\n",
    "income = pd.Series(income_raw).astype('category').cat.codes.tolist()\n",
    "adult_dataset.drop(adult_dataset.columns.difference(['age', 'educational-num', 'fnlwgt', 'gender', 'loss', 'hours']), 1, inplace=True)\n",
    "#adult_dataset.drop(adult_dataset.columns.difference(['educational-num']), 1, inplace=True)\n",
    "income = np.array(income)"
   ]
  },
  {
   "cell_type": "code",
   "execution_count": 5,
   "id": "43e45d62",
   "metadata": {},
   "outputs": [],
   "source": [
    "# One-Hot encoding\n",
    "per_adult_encoded = pd.get_dummies(adult_dataset)"
   ]
  },
  {
   "cell_type": "code",
   "execution_count": 6,
   "id": "17faf5cf",
   "metadata": {},
   "outputs": [],
   "source": [
    "# Spliting dataset\n",
    "X_train, X_test, Y_train, Y_test = train_test_split(per_adult_encoded, income, test_size = 0.5, random_state = 0)"
   ]
  },
  {
   "cell_type": "markdown",
   "id": "f4245b6c",
   "metadata": {},
   "source": [
    "## Implementing logistic RegressioN"
   ]
  },
  {
   "cell_type": "code",
   "execution_count": 7,
   "id": "49d17a48",
   "metadata": {},
   "outputs": [],
   "source": [
    "def sigmoid(x):\n",
    "    # Activation function used to map any real value between 0 and 1\n",
    "    return 1 / (1 + np.exp(-x))\n",
    "\n",
    "def net_input(theta, x):\n",
    "    # Computes the weighted sum of inputs\n",
    "    return np.dot(x, theta)\n",
    "\n",
    "def probability(theta, x):\n",
    "    # Returns the probability after passing through sigmoid\n",
    "    return sigmoid(net_input(theta, x))\n",
    "\n",
    "def get_prediction(theta, x):\n",
    "    return (probability(theta, x) > 0.5)*1\n",
    "\n",
    "def get_accuracy(theta, x, y):\n",
    "    return np.mean(get_prediction(theta, x) == y)"
   ]
  },
  {
   "cell_type": "code",
   "execution_count": 8,
   "id": "f534939b",
   "metadata": {},
   "outputs": [],
   "source": [
    "def cost_function(theta, x, y):\n",
    "    # Computes the cost function for all the training samples\n",
    "    m = x.shape[0]\n",
    "    total_cost = -(1 / m) * np.sum(\n",
    "        y * np.log(probability(theta, x)) + (1 - y) * np.log(\n",
    "            1 - probability(theta, x)))\n",
    "    return total_cost\n",
    "\n",
    "def gradient(theta, x, y):\n",
    "    # Computes the gradient of the cost function at the point theta\n",
    "    m = x.shape[0]\n",
    "    return (1 / m) * np.dot(x.T, sigmoid(net_input(theta,   x)) - y)"
   ]
  },
  {
   "cell_type": "code",
   "execution_count": 9,
   "id": "4a5afaf9",
   "metadata": {},
   "outputs": [
    {
     "name": "stderr",
     "output_type": "stream",
     "text": [
      "  NIT   NF   F                       GTG\n",
      "    0    1  6.931471805599452E-01   1.27138251E-01\n",
      "    1    4  5.381529011666284E-01   2.10061024E-03\n",
      "tnc: fscale = 21.8186\n",
      "    2    9  4.400317303121448E-01   1.68707536E-03\n",
      "    3   13  4.303388966236409E-01   5.32167574E-05\n",
      "    4   16  4.298443850717018E-01   1.34777221E-05\n",
      "    5   21  4.294295481980749E-01   1.73029612E-06\n",
      "tnc: fscale = 760.221\n",
      "    6   26  4.293851413686517E-01   4.94415404E-09\n",
      "    7   29  4.293846836360435E-01   2.80137491E-08\n",
      "    8   34  4.293841402051041E-01   9.65589239E-11\n",
      "tnc: fscale = 101766\n",
      "tnc: |fn-fn-1] = 2.01802e-09 -> convergence\n",
      "    9   37  4.293841381870887E-01   2.86248793E-10\n",
      "tnc: Converged (|f_n-f_(n-1)| ~= 0)\n"
     ]
    }
   ],
   "source": [
    "def fit(x, y, theta):\n",
    "    opt_weights = fmin_tnc(func=cost_function, x0=theta,\n",
    "                  fprime=gradient,args=(x, y.flatten())) ;\n",
    "    \n",
    "    return opt_weights[0]\n",
    "\n",
    "\n",
    "X = np.c_[np.ones((X_train.shape[0], 1)), X_train]\n",
    "theta = np.zeros((X.shape[1], 1))\n",
    "parameters = fit(X, Y_train, theta)"
   ]
  },
  {
   "cell_type": "markdown",
   "id": "8c6980bc",
   "metadata": {},
   "source": [
    "## Calculating the Rashomon set"
   ]
  },
  {
   "cell_type": "markdown",
   "id": "559b28d7",
   "metadata": {},
   "source": [
    "### Finding points in the border"
   ]
  },
  {
   "cell_type": "code",
   "execution_count": 10,
   "id": "af9e5f57",
   "metadata": {},
   "outputs": [
    {
     "name": "stderr",
     "output_type": "stream",
     "text": [
      "100%|███████████████████████████████████████| 1000/1000 [01:15<00:00, 13.17it/s]\n"
     ]
    }
   ],
   "source": [
    "center = parameters\n",
    "delta = 0.1 #Size of initial noise\n",
    "samples = 1000 #number of directions\n",
    "epsilon = 0.1  #Rashomon set size\n",
    "\n",
    "extremes_l = np.zeros((samples, center.size))\n",
    "\n",
    "early_stopping_exploration = 1000\n",
    "for i in tqdm(range(samples)):\n",
    "    #Generationg direction\n",
    "    Z = np.random.normal(loc=0.0, scale=1.0, size=center.size)\n",
    "    Z = Z/np.linalg.norm(Z)\n",
    "    direction = center + delta * Z\n",
    "    #loading model\n",
    "    ct = 1\n",
    "    while (cost_function(direction, X, Y_train) - cost_function(center, X, Y_train)) < epsilon:\n",
    "        extremes_l[i, :] = direction\n",
    "        direction = center + ct*delta*Z\n",
    "        ct += 1\n",
    "        if ct==early_stopping_exploration:\n",
    "            break"
   ]
  },
  {
   "cell_type": "markdown",
   "id": "8a8c2eb1",
   "metadata": {},
   "source": [
    "### Getting convex hull and triangulation"
   ]
  },
  {
   "cell_type": "code",
   "execution_count": 12,
   "id": "f8944639",
   "metadata": {},
   "outputs": [],
   "source": [
    "# Sampling from Rashomon set after calculating cvx hull and triangulation\n",
    "def samp_in_hull_after(deln, vols, n):\n",
    "    sample = np.random.choice(len(vols), size = n, p = vols / vols.sum())\n",
    "    return np.einsum('ijk, ij -> ik', deln[sample], dirichlet.rvs([1]*(dims + 1), size = n))"
   ]
  },
  {
   "cell_type": "code",
   "execution_count": 13,
   "id": "a72351fb",
   "metadata": {},
   "outputs": [],
   "source": [
    "dims = extremes_l.shape[-1] #get dim\n",
    "hull = extremes_l[ConvexHull(extremes_l).vertices] #get hull\n",
    "deln = hull[Delaunay(hull).simplices] #get Delunay\n",
    "vols = np.abs(det(deln[:, :dims, :] - deln[:, dims:, :])) / np.math.factorial(dims) #get areas"
   ]
  },
  {
   "cell_type": "markdown",
   "id": "9ca53c84",
   "metadata": {},
   "source": [
    "### Sampling models in Rashomon"
   ]
  },
  {
   "cell_type": "code",
   "execution_count": 75,
   "id": "23503fab",
   "metadata": {},
   "outputs": [],
   "source": [
    "n = 10000 #number of predictions\n",
    "models_in_ensemble = samp_in_hull_after(deln, vols, n)"
   ]
  },
  {
   "cell_type": "markdown",
   "id": "98c80b32",
   "metadata": {},
   "source": [
    "## Getting all predictions"
   ]
  },
  {
   "cell_type": "code",
   "execution_count": 76,
   "id": "04d90892",
   "metadata": {},
   "outputs": [],
   "source": [
    "def get_all_predictions(models_in_ensemble, x):\n",
    "    n_models = models_in_ensemble.shape[0]\n",
    "    pred = np.zeros((n_models, x.shape[0]))\n",
    "    for i in range(n_models):\n",
    "        pred[i] = get_prediction(models_in_ensemble[i], x)\n",
    "    return pred"
   ]
  },
  {
   "cell_type": "code",
   "execution_count": 77,
   "id": "9f1659be",
   "metadata": {},
   "outputs": [],
   "source": [
    "predictions = get_all_predictions(models_in_ensemble, X)"
   ]
  },
  {
   "cell_type": "code",
   "execution_count": 78,
   "id": "ef7b549f",
   "metadata": {},
   "outputs": [
    {
     "name": "stdout",
     "output_type": "stream",
     "text": [
      "55.24744593339525% of all training data had 1 oor more different predictions\n"
     ]
    }
   ],
   "source": [
    "print(str(100*np.mean(np.mean(predictions, axis = 0) != 0)) + '% of all training data had 1 oor more different predictions')\n"
   ]
  },
  {
   "cell_type": "code",
   "execution_count": 79,
   "id": "c5e0cb8a",
   "metadata": {},
   "outputs": [
    {
     "data": {
      "text/plain": [
       "0.04935650789438769"
      ]
     },
     "execution_count": 79,
     "metadata": {},
     "output_type": "execute_result"
    }
   ],
   "source": [
    "idx = np.abs(np.mean(predictions, axis = 0) - 0.5) < 0.1\n",
    "np.mean(np.abs(np.mean(predictions, axis = 0) - 0.5) < 0.1)"
   ]
  },
  {
   "cell_type": "code",
   "execution_count": 83,
   "id": "1d5074e2",
   "metadata": {},
   "outputs": [
    {
     "data": {
      "text/plain": [
       "array([0.0003, 0.0004, 0.0005, 0.0006, 0.0006, 0.0006, 0.0008, 0.001 ,\n",
       "       0.001 , 0.001 ])"
      ]
     },
     "execution_count": 83,
     "metadata": {},
     "output_type": "execute_result"
    }
   ],
   "source": [
    "np.sort(np.abs(np.mean(predictions, axis = 0) - 0.5))[:10]"
   ]
  },
  {
   "cell_type": "code",
   "execution_count": null,
   "id": "9444d5a6",
   "metadata": {},
   "outputs": [],
   "source": []
  },
  {
   "cell_type": "code",
   "execution_count": null,
   "id": "5ad6a836",
   "metadata": {},
   "outputs": [],
   "source": []
  }
 ],
 "metadata": {
  "kernelspec": {
   "display_name": "Python 3 (ipykernel)",
   "language": "python",
   "name": "python3"
  },
  "language_info": {
   "codemirror_mode": {
    "name": "ipython",
    "version": 3
   },
   "file_extension": ".py",
   "mimetype": "text/x-python",
   "name": "python",
   "nbconvert_exporter": "python",
   "pygments_lexer": "ipython3",
   "version": "3.10.4"
  }
 },
 "nbformat": 4,
 "nbformat_minor": 5
}
