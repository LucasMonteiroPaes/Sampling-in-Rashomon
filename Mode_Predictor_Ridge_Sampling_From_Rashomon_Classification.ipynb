{
 "cells": [
  {
   "cell_type": "code",
   "execution_count": 1,
   "id": "370fa59f",
   "metadata": {},
   "outputs": [],
   "source": [
    "# Importing libraries\n",
    "from copy import deepcopy\n",
    "import random\n",
    "\n",
    "\n",
    "# Math Libraries\n",
    "import random\n",
    "import math\n",
    "import numpy as np\n",
    "\n",
    "# Data Processing\n",
    "import pandas as pd\n",
    "\n",
    "# Libraries for data visualization\n",
    "import matplotlib.pyplot as plt  \n",
    "import seaborn as sns \n",
    "from sympy import var, plot_implicit\n",
    "\n",
    "# ML\n",
    "from sklearn.linear_model import LogisticRegression # Importing Logistic Model\n",
    "from sklearn.model_selection import train_test_split # Train Test Split\n",
    "from sklearn.preprocessing import MinMaxScaler # Data normalizer Min Max Scale\n",
    "from sklearn.metrics import accuracy_score, mean_squared_error, mean_absolute_error # Calculate the accuracy\n",
    "\n",
    "# Loading Bar\n",
    "from time import sleep\n",
    "from tqdm import tqdm\n",
    "\n",
    "# Convex Hull\n",
    "from scipy.spatial import ConvexHull, convex_hull_plot_2d, Delaunay\n",
    "from numpy.linalg import det\n",
    "from scipy.stats import dirichlet\n",
    "import scipy.stats as sts\n",
    "from scipy.spatial.distance import euclidean\n",
    "from scipy import stats as st\n",
    "from scipy.optimize import fmin_tnc\n",
    "\n",
    "# Supress warnings\n",
    "import warnings; warnings.simplefilter('ignore')"
   ]
  },
  {
   "cell_type": "code",
   "execution_count": 2,
   "id": "6e2e13fd",
   "metadata": {},
   "outputs": [],
   "source": [
    "# Loading Dataset\n",
    "adult_folder = pd.read_csv('adult.csv') # Loading Adult"
   ]
  },
  {
   "cell_type": "code",
   "execution_count": 3,
   "id": "b49bc751",
   "metadata": {},
   "outputs": [],
   "source": [
    "def Adult_Data_Clean(df: pd.DataFrame) -> pd.DataFrame:\n",
    "  # Changing collumn names for convenience\n",
    "  df.rename(columns={'capital-gain': 'gain', 'capital-loss': 'loss', 'native-country': 'country',\n",
    "                    'hours-per-week': 'hours','marital-status': 'marital'}, inplace=True)\n",
    "  \n",
    "  # Finding not known data\n",
    "  df['country'] = df['country'].replace('?',np.nan)\n",
    "  df['workclass'] = df['workclass'].replace('?',np.nan)\n",
    "  df['occupation'] = df['occupation'].replace('?',np.nan)\n",
    "  \n",
    "  # Dropping not known data\n",
    "  df.dropna(how='any',inplace=True)\n",
    "\n",
    "  # Normalizing numerical features\n",
    "  numerical = ['age', 'fnlwgt', 'educational-num', 'gain', 'loss', 'hours']\n",
    "  scaler = MinMaxScaler()\n",
    "  df[numerical] = scaler.fit_transform(df[numerical])  \n",
    "  return df"
   ]
  },
  {
   "cell_type": "code",
   "execution_count": 6,
   "id": "b2bd75b8",
   "metadata": {},
   "outputs": [],
   "source": [
    "adult_dataset = Adult_Data_Clean(adult_folder)\n",
    "\n",
    "# Separating label (income) from the rest of the data and making income binary\n",
    "income_raw = adult_dataset['income'].tolist()\n",
    "adult_dataset = adult_dataset.drop(['income'], axis=1)\n",
    "income = pd.Series(income_raw).astype('category').cat.codes.tolist()\n",
    "adult_dataset.drop(adult_dataset.columns.difference(['age', 'educational-num', 'gender', 'loss', 'hours']), 1, inplace=True)\n",
    "income = 2*np.array(income) - 1"
   ]
  },
  {
   "cell_type": "code",
   "execution_count": 7,
   "id": "31b9a751",
   "metadata": {},
   "outputs": [],
   "source": [
    "# One-Hot encoding\n",
    "per_adult_encoded = pd.get_dummies(adult_dataset)"
   ]
  },
  {
   "cell_type": "code",
   "execution_count": 8,
   "id": "d8c7d9fd",
   "metadata": {},
   "outputs": [],
   "source": [
    "# Spliting dataset\n",
    "X_train, X_test, Y_train, Y_test = train_test_split(per_adult_encoded, income, test_size = 0.5, random_state = 0)"
   ]
  },
  {
   "cell_type": "code",
   "execution_count": 9,
   "id": "ea99914a",
   "metadata": {},
   "outputs": [],
   "source": [
    "def test(model, qtd_data):\n",
    "    #Predicting\n",
    "    y_test_pred = model.predict(X_test[0:qtd_data])\n",
    "    #y_train_pred = model.predict(X_train)\n",
    "\n",
    "    # Getting accuracy for the personalized classifier\n",
    "    #per_train_acc = accuracy_score(Y_train, y_train_pred)\n",
    "    #per_test_acc = accuracy_score(Y_test[0:qtd_data], y_test_pred)\n",
    "    \n",
    "    # L2 score\n",
    "    #l2_train_acc = mean_squared_error(Y_train, y_train_pred)\n",
    "    l2_test_acc = mean_squared_error(Y_test[0:qtd_data], y_test_pred)\n",
    "    \n",
    "    return l2_test_acc"
   ]
  },
  {
   "cell_type": "code",
   "execution_count": 10,
   "id": "741d9544",
   "metadata": {},
   "outputs": [],
   "source": [
    "def multiplicity(m1, m2):\n",
    "    y_test_pred_1 = m1.predict(X_test)\n",
    "    y_test_pred_2 = m2.predict(X_test)\n",
    "    \n",
    "    return np.mean(np.abs(y_test_pred_1 - y_test_pred_2))"
   ]
  },
  {
   "cell_type": "code",
   "execution_count": 11,
   "id": "9b62cdfa",
   "metadata": {},
   "outputs": [],
   "source": [
    "def get_theoretical_Rashomon(X_t, center, w, alpha, epsilon):\n",
    "    X = X_t.to_numpy()\n",
    "    Id = np.identity(X.shape[1])\n",
    "    A = (X.T @ X + alpha*Id)/epsilon\n",
    "    v = center - w\n",
    "    a = (v @ A) @ v.T - 1\n",
    "    return a"
   ]
  },
  {
   "cell_type": "markdown",
   "id": "36a32bf4",
   "metadata": {},
   "source": [
    "## Sampling in the Convex hull"
   ]
  },
  {
   "cell_type": "code",
   "execution_count": 12,
   "id": "48df6166",
   "metadata": {},
   "outputs": [],
   "source": [
    "# Sampling from Rashomon set\n",
    "\n",
    "def samp_in_hull(deln, n):\n",
    "    dims = points.shape[-1] #get dim\n",
    "    hull = points[ConvexHull(points).vertices] #get hull\n",
    "    deln = hull[Delaunay(hull).simplices] #get Delunay\n",
    "\n",
    "    vols = np.abs(det(deln[:, :dims, :] - deln[:, dims:, :])) / np.math.factorial(dims) #get areas\n",
    "    sample = np.random.choice(len(vols), size = n, p = vols / vols.sum()) \n",
    "\n",
    "    return np.einsum('ijk, ij -> ik', deln[sample], dirichlet.rvs([1]*(dims + 1), size = n))"
   ]
  },
  {
   "cell_type": "markdown",
   "id": "969aa28f",
   "metadata": {},
   "source": [
    "## Implementing Ridge"
   ]
  },
  {
   "cell_type": "code",
   "execution_count": 13,
   "id": "f1fe4926",
   "metadata": {},
   "outputs": [],
   "source": [
    "def get_ridge(X, Y, alpha):\n",
    "    return np.linalg.inv(X.T@X + alpha*np.identity(X.shape[1])) @ X.T @ Y\n",
    "\n",
    "def get_ridge_prediction(parameter, X):\n",
    "    return X@parameter\n",
    "\n",
    "def get_ridge_l2_loss(parameter, alpha, X, Y):\n",
    "    fp = Y - X@parameter\n",
    "    n = X.shape[0]\n",
    "    return (np.dot(fp, fp) + alpha * np.dot(parameter, parameter) )"
   ]
  },
  {
   "cell_type": "markdown",
   "id": "008927a5",
   "metadata": {},
   "source": [
    "## Calculating the Rashomon set"
   ]
  },
  {
   "cell_type": "code",
   "execution_count": 14,
   "id": "5de60f25",
   "metadata": {},
   "outputs": [],
   "source": [
    "alpha = 1\n",
    "np_X = X_train.to_numpy()\n",
    "omega_hat = get_ridge(np_X, Y_train, alpha)\n",
    "np_X_test = X_test.to_numpy()\n",
    "\n",
    "pred = get_ridge_prediction(omega_hat, np_X)\n",
    "pred_test = get_ridge_prediction(omega_hat, np_X_test)\n",
    "#np.mean(get_thresholded(pred) == Y_train), np.mean(get_thresholded(pred_test) == Y_test)"
   ]
  },
  {
   "cell_type": "code",
   "execution_count": 15,
   "id": "dbbe3d01",
   "metadata": {},
   "outputs": [
    {
     "name": "stderr",
     "output_type": "stream",
     "text": [
      "100%|███████████████████████████████████████| 1000/1000 [07:52<00:00,  2.12it/s]\n"
     ]
    }
   ],
   "source": [
    "center = omega_hat\n",
    "delta = 0.1 #Size of initial noise\n",
    "step = 0.0001 #step size for each step in an direction\n",
    "samples = 1000 #number of directions\n",
    "qtd_points = X_train.shape[0]\n",
    "epsilon = 0.1 * get_ridge_l2_loss(center, alpha, np_X, Y_train) #Rashomon set size\n",
    "\n",
    "extremes_l = np.zeros((samples, center.size))\n",
    "early_stopping_exploration = 1000\n",
    "for i in tqdm(range(samples)):\n",
    "    #Generationg direction\n",
    "    Z = np.random.normal(loc=0.0, scale=1.0, size=center.size)\n",
    "    Z = Z/np.linalg.norm(Z)\n",
    "    direction = center + delta * Z\n",
    "    #loading model\n",
    "    ct = 1\n",
    "    while (get_ridge_l2_loss(direction, alpha, np_X, Y_train) - get_ridge_l2_loss(omega_hat, alpha, np_X, Y_train)) < epsilon:\n",
    "        extremes_l[i, :] = direction\n",
    "        direction = center + ct*delta*Z\n",
    "        ct += 1\n",
    "        if ct==early_stopping_exploration:\n",
    "            break"
   ]
  },
  {
   "cell_type": "markdown",
   "id": "77533dee",
   "metadata": {},
   "source": [
    "# Generating the mode ensamble"
   ]
  },
  {
   "cell_type": "code",
   "execution_count": 16,
   "id": "9ba83505",
   "metadata": {},
   "outputs": [],
   "source": [
    "def get_thresholded(pred):\n",
    "    return 2*(pred > 0)*1 - 1\n",
    "\n",
    "def get_mode_prediction(models_in_ensemble, X):\n",
    "    n_models = models_in_ensemble.shape[0]\n",
    "    pred = np.zeros((n_models, X.shape[0]))\n",
    "    for i in range(n_models):\n",
    "        pred[i] = get_thresholded(get_ridge_prediction(models_in_ensemble[i], X))  #geting votes\n",
    "        \n",
    "    return st.mode(pred)[0] #np.mean(pred, axis = 0) \n",
    "\n",
    "# Sampling from Rashomon set after calculating cvx hull and triangulation\n",
    "def samp_in_hull_after(deln, vols, n):\n",
    "    sample = np.random.choice(len(vols), size = n, p = vols / vols.sum())\n",
    "    \n",
    "    return np.einsum('ijk, ij -> ik', deln[sample], dirichlet.rvs([1]*(dims + 1), size = n))"
   ]
  },
  {
   "cell_type": "code",
   "execution_count": 17,
   "id": "f55e7235",
   "metadata": {},
   "outputs": [],
   "source": [
    "dims = extremes_l.shape[-1] #get dim\n",
    "hull = extremes_l[ConvexHull(extremes_l).vertices] #get hull\n",
    "deln = hull[Delaunay(hull).simplices] #get Delunay\n",
    "vols = np.abs(det(deln[:, :dims, :] - deln[:, dims:, :])) / np.math.factorial(dims) #get areas\n"
   ]
  },
  {
   "cell_type": "code",
   "execution_count": 18,
   "id": "e04bcbb4",
   "metadata": {},
   "outputs": [],
   "source": [
    "n = 5000 #number of models in the ensamblex\n",
    "\n",
    "# Getting predictions for the optimal parameter\n",
    "omega_hat = get_ridge(np_X, Y_train, alpha)\n",
    "pred = get_ridge_prediction(omega_hat, np_X)\n"
   ]
  },
  {
   "cell_type": "code",
   "execution_count": 19,
   "id": "7651c19f",
   "metadata": {},
   "outputs": [],
   "source": [
    "models_in_ensemble = samp_in_hull_after(deln, vols, n)\n",
    "ensamble_predition = get_mode_prediction(models_in_ensemble, np_X)"
   ]
  },
  {
   "cell_type": "code",
   "execution_count": 23,
   "id": "23a50b23",
   "metadata": {},
   "outputs": [
    {
     "name": "stdout",
     "output_type": "stream",
     "text": [
      "The Ensamble and the Optimal desagree in: 43 predictions\n",
      "The Ensamble and a random model desagree in: 787 predictions\n",
      "The Optimal and a random model desagree in: 796 predictions\n"
     ]
    }
   ],
   "source": [
    "# selecting a model at random \n",
    "random_model_pred = get_ridge_prediction( samp_in_hull_after(deln, vols, 1)[0], np_X)\n",
    "random_model_t_pred = get_thresholded(random_model_pred)\n",
    "print('The Ensamble and the Optimal desagree in: ' + str(np.sum(ensamble_predition != get_thresholded(pred))) + ' predictions')\n",
    "print('The Ensamble and a random model desagree in: ' + str(np.sum(ensamble_predition != random_model_t_pred)) + ' predictions')\n",
    "print('The Optimal and a random model desagree in: ' + str(np.sum(get_thresholded(pred) != random_model_t_pred)) + ' predictions')\n"
   ]
  },
  {
   "cell_type": "code",
   "execution_count": 24,
   "id": "131f21fb",
   "metadata": {},
   "outputs": [
    {
     "name": "stdout",
     "output_type": "stream",
     "text": [
      "The accuracy of the Ensamble model is: 0.7955862190968997\n",
      "The accuracy of the Optimal model is: 0.7951881827429127\n"
     ]
    }
   ],
   "source": [
    "print('The accuracy of the Ensamble model is: ' + str(np.mean(ensamble_predition[0] == Y_train)))\n",
    "print('The accuracy of the Optimal model is: ' + str(np.mean(get_thresholded(pred) == Y_train)))"
   ]
  },
  {
   "cell_type": "code",
   "execution_count": 22,
   "id": "da98a618",
   "metadata": {},
   "outputs": [
    {
     "name": "stdout",
     "output_type": "stream",
     "text": [
      "The test accuracy of the Ensamble model is: 0.7932422272345319\n",
      "The test accuracy of the Optimal model is: 0.792888417142099\n"
     ]
    }
   ],
   "source": [
    "print('The test accuracy of the Ensamble model is: ' + str(np.mean(get_mode_prediction(models_in_ensemble, X_test)[0] == Y_test)))\n",
    "print('The test accuracy of the Optimal model is: ' + str(np.mean(get_thresholded(get_ridge_prediction(omega_hat, X_test)) == Y_test)))\n"
   ]
  },
  {
   "cell_type": "code",
   "execution_count": 30,
   "id": "ec046940",
   "metadata": {},
   "outputs": [
    {
     "name": "stderr",
     "output_type": "stream",
     "text": [
      "100%|███████████████████████████████████████| 2000/2000 [01:26<00:00, 23.17it/s]\n"
     ]
    }
   ],
   "source": [
    "montecarlo_tries = 2000\n",
    "avg_ensamble_disagreement = 0\n",
    "avg_optimal_disagreement = 0\n",
    "n_range= np.array([5000])\n",
    "n_size = len(n_range)\n",
    "acc_ensembles = np.zeros(n_size)\n",
    "disagreements_difference = np.zeros(n_size)\n",
    "\n",
    "for j in range(n_size):\n",
    "    avg_ensamble_disagreement = 0\n",
    "    avg_optimal_disagreement = 0\n",
    "    \n",
    "    models_in_ensemble = samp_in_hull_after(deln, vols, n_range[j])\n",
    "    ensamble_predition = get_mode_prediction(models_in_ensemble, np_X)\n",
    "    \n",
    "    for i in tqdm(range(montecarlo_tries)):    \n",
    "        random_model_pred = get_ridge_prediction(samp_in_hull_after(deln, vols, 1)[0], np_X)\n",
    "        random_model_t_pred = get_thresholded(random_model_pred)\n",
    "        \n",
    "        avg_ensamble_disagreement += np.sum(ensamble_predition != random_model_t_pred)\n",
    "        avg_optimal_disagreement += np.sum(get_thresholded(pred) != random_model_t_pred)\n",
    "        \n",
    "        #print(np.sum(ensamble_predition != random_model_t_pred) - np.sum(get_thresholded(pred) != random_model_t_pred))\n",
    "    \n",
    "        disagreements_difference[j] = - avg_ensamble_disagreement/montecarlo_tries + avg_optimal_disagreement/montecarlo_tries\n",
    "        acc_ensembles[j] = np.mean(ensamble_predition == Y_train)\n"
   ]
  },
  {
   "cell_type": "code",
   "execution_count": 33,
   "id": "ed2647de",
   "metadata": {},
   "outputs": [
    {
     "data": {
      "text/plain": [
       "(array([0.203]), array([0.79549777]))"
      ]
     },
     "execution_count": 33,
     "metadata": {},
     "output_type": "execute_result"
    }
   ],
   "source": [
    "disagreements_difference, acc_ensembles"
   ]
  },
  {
   "cell_type": "markdown",
   "id": "bd324b59",
   "metadata": {},
   "source": [
    "## Ploting qtd. models in the ensamble vs consistency (avarage L1 dist)"
   ]
  },
  {
   "cell_type": "code",
   "execution_count": 34,
   "id": "ed0dfae4",
   "metadata": {},
   "outputs": [
    {
     "data": {
      "text/plain": [
       "Text(0.5, 1.0, 'Fairness Rashomon level trade-off')"
      ]
     },
     "execution_count": 34,
     "metadata": {},
     "output_type": "execute_result"
    },
    {
     "data": {
      "image/png": "[encoded data removed]",
      "text/plain": [
       "<Figure size 432x288 with 1 Axes>"
      ]
     },
     "metadata": {
      "needs_background": "light"
     },
     "output_type": "display_data"
    }
   ],
   "source": [
    "plt.plot(n_range, acc_ensembles, color = 'black')\n",
    "# plt.xlim([0,0.2])\n",
    "# plt.ylim([0, 15])\n",
    "plt.xlabel(r'Rashomon level ($\\epsilon$)')\n",
    "plt.ylabel(r'Fairness Gain ($PL(h_{fair}) - PL(h_{optimal})$)')\n",
    "plt.title('Fairness Rashomon level trade-off')\n"
   ]
  },
  {
   "cell_type": "code",
   "execution_count": null,
   "id": "629948b1",
   "metadata": {},
   "outputs": [],
   "source": [
    "plt.plot(ns, ensamble_consistances, color = 'black')\n",
    "plt.plot(ns, optimal_consistances, color = 'red')\n",
    "plt.show()"
   ]
  },
  {
   "cell_type": "code",
   "execution_count": null,
   "id": "d4c5c269",
   "metadata": {},
   "outputs": [],
   "source": [
    "np.mean(ensamble_consistances < optimal_consistances)"
   ]
  },
  {
   "cell_type": "code",
   "execution_count": null,
   "id": "8996cf91",
   "metadata": {},
   "outputs": [],
   "source": [
    "plt.plot(ns, prob_consistences, color = 'black')\n",
    "plt.show()"
   ]
  },
  {
   "cell_type": "markdown",
   "id": "9d071b93",
   "metadata": {},
   "source": [
    "# Compas Data"
   ]
  },
  {
   "cell_type": "code",
   "execution_count": null,
   "id": "3492449e",
   "metadata": {},
   "outputs": [],
   "source": [
    "import pandas as pd\n",
    "def load_data(name='adult'):\n",
    "    #% Processing for COMPAS\n",
    "    if name == 'compas':\n",
    "        file = 'compas-scores-two-years.csv'\n",
    "        df = pd.read_csv(file,index_col=0)\n",
    "        aux = df\n",
    "        \n",
    "        # select features for analysis\n",
    "        df = df[['age', 'c_charge_degree', 'race',  'sex', 'priors_count', \n",
    "                   'days_b_screening_arrest',  'is_recid',  'c_jail_in', 'c_jail_out', 'juv_fel_count']]\n",
    "        \n",
    "        # drop missing/bad features (following ProPublica's analysis)\n",
    "        # ix is the index of variables we want to keep.\n",
    "\n",
    "        # Remove entries with inconsistent arrest information.\n",
    "        ix = df['days_b_screening_arrest'] <= 30\n",
    "        ix = (df['days_b_screening_arrest'] >= -30) & ix\n",
    "\n",
    "        # remove entries entries where compas case could not be found.\n",
    "        ix = (df['is_recid'] != -1) & ix\n",
    "\n",
    "        # remove traffic offenses.\n",
    "        ix = (df['c_charge_degree'] != \"O\") & ix\n",
    "\n",
    "\n",
    "        # trim dataset\n",
    "        df = df.loc[ix,:]\n",
    "\n",
    "        # create new attribute \"length of stay\" with total jail time.\n",
    "        df['length_of_stay'] = (pd.to_datetime(df['c_jail_out'])-pd.to_datetime(df['c_jail_in'])).apply(lambda x: x.days)\n",
    "        \n",
    "        # drop 'c_jail_in' and 'c_jail_out'\n",
    "        # drop columns that won't be used\n",
    "        dropCol = ['c_jail_in', 'c_jail_out','days_b_screening_arrest']\n",
    "        df.drop(dropCol,inplace=True,axis=1)\n",
    "        \n",
    "        # rename columns 'sex' to 'gender'\n",
    "        df.rename(index=str, columns={\"sex\": \"gender\"},inplace=True)\n",
    "        \n",
    "        # binarize degree charged\n",
    "        # Misd. = -1, Felony = 1\n",
    "        df.loc[:,'c_charge_degree'] = df['c_charge_degree'].apply(lambda x: 1 if x=='F' else -1)\n",
    "               \n",
    "        # reset index\n",
    "        df.reset_index(inplace=True,drop=True)\n",
    "        # Normalizing numerical features\n",
    "        numerical = ['age', 'priors_count', 'length_of_stay']\n",
    "        scaler = MinMaxScaler()\n",
    "        df[numerical] = scaler.fit_transform(df[numerical])  \n",
    "        \n",
    "    # TODO: add other datasets here\n",
    "        \n",
    "    return df"
   ]
  },
  {
   "cell_type": "code",
   "execution_count": null,
   "id": "ef751b6b",
   "metadata": {},
   "outputs": [],
   "source": [
    "compas_dataset =  load_data('compas')\n",
    "recid = compas_dataset['is_recid'].to_numpy()\n",
    "recid = 2*recid - 1\n",
    "compas_dataset = compas_dataset.drop(['race', 'is_recid'], axis = 1)\n",
    "# One-Hot encoding\n",
    "per_compas_dataset = pd.get_dummies(compas_dataset)"
   ]
  },
  {
   "cell_type": "code",
   "execution_count": null,
   "id": "476ba073",
   "metadata": {},
   "outputs": [],
   "source": [
    "#Split\n",
    "# Spliting dataset\n",
    "X_train, X_test, Y_train, Y_test = train_test_split(per_compas_dataset, recid, test_size = 0.7, random_state = 0)"
   ]
  },
  {
   "cell_type": "code",
   "execution_count": null,
   "id": "c0fdb7a7",
   "metadata": {},
   "outputs": [],
   "source": [
    "np_X = X_train.to_numpy()\n",
    "\n",
    "omega_hat = get_ridge(np_X, Y_train, alpha)\n",
    "pred = get_ridge_prediction(omega_hat, np_X)\n",
    "print('The train accuracy of the optimal is: ' + str(np.mean(get_thresholded(pred) ==  Y_train)))"
   ]
  },
  {
   "cell_type": "code",
   "execution_count": null,
   "id": "123c1875",
   "metadata": {},
   "outputs": [],
   "source": [
    "center = omega_hat\n",
    "delta = 0.0001 #Size of initial noise\n",
    "step = 0.0001 #step size for each step in an direction\n",
    "samples = 1000 #number of directions\n",
    "epsilon = 1*10**(-1) #Rashomon set size\n",
    "\n",
    "extremes_l = np.zeros((samples, center.size))\n",
    "early_stopping_exploration = 1000\n",
    "for i in tqdm(range(samples)):\n",
    "    #Generationg direction\n",
    "    Z = np.random.normal(loc=0.0, scale=1.0, size=center.size)\n",
    "    Z = Z/np.linalg.norm(Z)\n",
    "    direction = center + delta * Z\n",
    "    #loading model\n",
    "    ct = 1\n",
    "    while (get_ridge_l2_loss(direction, alpha, np_X, Y_train) - get_ridge_l2_loss(omega_hat, alpha, np_X, Y_train)) < epsilon:\n",
    "        extremes_l[i, :] = direction\n",
    "        direction = center + ct*delta*Z\n",
    "        ct += 1\n",
    "        if ct==early_stopping_exploration:\n",
    "            break"
   ]
  },
  {
   "cell_type": "code",
   "execution_count": null,
   "id": "79088d6f",
   "metadata": {},
   "outputs": [],
   "source": [
    "dims = extremes_l.shape[-1] #get dim\n",
    "hull = extremes_l[ConvexHull(extremes_l).vertices] #get hull\n",
    "deln = hull[Delaunay(hull).simplices] #get Delunay\n",
    "vols = np.abs(det(deln[:, :dims, :] - deln[:, dims:, :])) / np.math.factorial(dims) #get areas"
   ]
  },
  {
   "cell_type": "code",
   "execution_count": null,
   "id": "ec2f5fad",
   "metadata": {},
   "outputs": [],
   "source": [
    "n = 10000 #number of models in the ensamblex\n",
    "# Getting predictions for the optimal parameter\n",
    "omega_hat = get_ridge(np_X, Y_train, alpha)\n",
    "pred = get_ridge_prediction(omega_hat, np_X)\n",
    "\n",
    "models_in_ensemble = samp_in_hull_after(deln, vols, n)\n",
    "ensamble_predition = get_mode_prediction(models_in_ensemble, np_X)"
   ]
  },
  {
   "cell_type": "code",
   "execution_count": null,
   "id": "50f9659a",
   "metadata": {},
   "outputs": [],
   "source": [
    "# selecting a model at random \n",
    "random_model_pred = get_ridge_prediction( samp_in_hull_after(deln, vols, 1)[0], np_X)\n",
    "random_model_t_pred = get_thresholded(random_model_pred)\n",
    "print('The Ensamble and the Optimal desagree in: ' + str(np.sum(ensamble_predition != get_thresholded(pred))) + ' predictions')\n",
    "print('The Ensamble and a random model desagree in: ' + str(np.sum(ensamble_predition != random_model_t_pred)) + ' predictions')\n",
    "print('The Optimal and a random model desagree in: ' + str(np.sum(get_thresholded(pred) != random_model_t_pred)) + ' predictions')"
   ]
  },
  {
   "cell_type": "code",
   "execution_count": null,
   "id": "b565c1f3",
   "metadata": {},
   "outputs": [],
   "source": [
    "print('The accuracy of the Ensamble model is: ' + str(np.mean(ensamble_predition[0] == Y_train)))\n",
    "print('The accuracy of the Optimal model is: ' + str(np.mean(get_thresholded(pred) == Y_train)))"
   ]
  },
  {
   "cell_type": "markdown",
   "id": "8e5b09e9",
   "metadata": {},
   "source": [
    "## Label Flip"
   ]
  },
  {
   "cell_type": "code",
   "execution_count": null,
   "id": "62b9593f",
   "metadata": {},
   "outputs": [],
   "source": [
    "def get_fliped(gamma, Y):\n",
    "    tbc_entrie = np.random.uniform(0,1, Y.shape) < gamma\n",
    "    Y[ tbc_entrie ] = -1 * Y[ tbc_entrie ] \n",
    "    return Y"
   ]
  },
  {
   "cell_type": "code",
   "execution_count": null,
   "id": "948541b7",
   "metadata": {},
   "outputs": [],
   "source": [
    "Y_train_flip =get_fliped(0.5, Y_train) "
   ]
  },
  {
   "cell_type": "code",
   "execution_count": null,
   "id": "a87d39d8",
   "metadata": {},
   "outputs": [],
   "source": [
    "alpha = 1\n",
    "np_X = X_test.to_numpy()\n",
    "np_X_test = X_test.to_numpy()\n",
    "\n",
    "omega_hat_flip = get_ridge(np_X, Y_train_flip, alpha)\n",
    "pred_flip = get_ridge_prediction(omega_hat_flip, np_X_test)"
   ]
  },
  {
   "cell_type": "code",
   "execution_count": null,
   "id": "ee7a413f",
   "metadata": {},
   "outputs": [],
   "source": [
    "center = omega_hat_flip\n",
    "delta = 0.1 #Size of initial noise\n",
    "step = 0.0001 #step size for each step in an direction\n",
    "samples = 1000 #number of directions\n",
    "qtd_points = X_train.shape[0]\n",
    "epsilon = 0.1 * qtd_points #Rashomon set size\n",
    "\n",
    "extremes_flip = np.zeros((samples, center.size))\n",
    "early_stopping_exploration = 1000\n",
    "for i in tqdm(range(samples)):\n",
    "    #Generationg direction\n",
    "    Z = np.random.normal(loc=0.0, scale=1.0, size=center.size)\n",
    "    Z = Z/np.linalg.norm(Z)\n",
    "    direction = center + delta * Z\n",
    "    #loading model\n",
    "    ct = 1\n",
    "    while (get_ridge_l2_loss(direction, alpha, np_X, Y_train_flip) - get_ridge_l2_loss(center, alpha, np_X, Y_train_flip)) < epsilon:\n",
    "        extremes_flip[i, :] = direction\n",
    "        direction = center + ct*delta*Z\n",
    "        ct += 1\n",
    "        if ct==early_stopping_exploration:\n",
    "            break"
   ]
  },
  {
   "cell_type": "code",
   "execution_count": null,
   "id": "717777a9",
   "metadata": {},
   "outputs": [],
   "source": [
    "dims = extremes_flip.shape[-1] #get dim\n",
    "hull_flip = extremes_flip[ConvexHull(extremes_flip).vertices] #get hull\n",
    "deln_flip = hull_flip[Delaunay(hull_flip).simplices] #get Delunay\n",
    "vols_flip = np.abs(det(deln_flip[:, :dims, :] - deln_flip[:, dims:, :])) / np.math.factorial(dims) #get areas"
   ]
  },
  {
   "cell_type": "code",
   "execution_count": null,
   "id": "feb139cd",
   "metadata": {},
   "outputs": [],
   "source": [
    "n = 4000 #number of models in the ensamblex\n",
    "\n",
    "models_in_ensemble = samp_in_hull_after(deln_flip, vols_flip, n)\n",
    "\n",
    "ensamble_test_predition = get_mode_prediction(models_in_ensemble, np_X_test)"
   ]
  },
  {
   "cell_type": "code",
   "execution_count": null,
   "id": "efa20772",
   "metadata": {},
   "outputs": [],
   "source": [
    "print('The accuracy of the Ensamble model is: ' + str(np.mean(ensamble_test_predition[0] == Y_test)))\n",
    "print('The accuracy of the Optimal model is: ' + str(np.mean(get_thresholded(pred_flip) == Y_test)))"
   ]
  },
  {
   "cell_type": "markdown",
   "id": "4a38fa28",
   "metadata": {},
   "source": [
    "## Plots Label Flip"
   ]
  },
  {
   "cell_type": "code",
   "execution_count": null,
   "id": "0b7bf38e",
   "metadata": {},
   "outputs": [],
   "source": [
    "montecarlo_tries = 2\n",
    "prob_flip = np.array([0, 0.01, 0.05, 0.1, 0.5])\n",
    "\n",
    "n_size = len(prob_flip)\n",
    "\n",
    "acc_ensembles_test = np.zeros(n_size)\n",
    "acc_optimal_test = np.zeros(n_size)\n",
    "\n",
    "\n",
    "\n",
    "for j in tqdm(range(n_size)):\n",
    "    avg_acc_ensembles_test = 0\n",
    "    avg_acc_optimal_test = 0\n",
    "    \n",
    "    for i in range(montecarlo_tries): \n",
    "        print(1)\n",
    "        Y_train_flip =get_fliped(prob_flip[j], Y_train) \n",
    "        \n",
    "        omega_hat_flip = get_ridge(np_X, Y_train_flip, alpha)\n",
    "        pred_flip = get_ridge_prediction(omega_hat_flip, np_X_test)\n",
    "        \n",
    "        center = omega_hat_flip\n",
    "        delta = 0.1 #Size of initial noise\n",
    "        samples = 1000 #number of directions\n",
    "        qtd_points = X_train.shape[0]\n",
    "        epsilon = 0.1 * qtd_points #Rashomon set size\n",
    "\n",
    "        extremes_flip = np.zeros((samples, center.size))\n",
    "        early_stopping_exploration = 1000\n",
    "\n",
    "\n",
    "        for i in range(samples):\n",
    "            #Generationg direction\n",
    "            Z = np.random.normal(loc=0.0, scale=1.0, size=center.size)\n",
    "            Z = Z/np.linalg.norm(Z)\n",
    "            direction = center + delta * Z\n",
    "            #loading model\n",
    "            ct = 1\n",
    "            while (get_ridge_l2_loss(direction, alpha, np_X, Y_train_flip) - get_ridge_l2_loss(center, alpha, np_X, Y_train_flip)) < epsilon:\n",
    "                extremes_flip[i, :] = direction\n",
    "                direction = center + ct*delta*Z\n",
    "                ct += 1\n",
    "                if ct==early_stopping_exploration:\n",
    "                    break\n",
    "\n",
    "        dims = extremes_flip.shape[-1] #get dim\n",
    "        hull_flip = extremes_flip[ConvexHull(extremes_flip).vertices] #get hull\n",
    "        deln_flip = hull_flip[Delaunay(hull_flip).simplices] #get Delunay\n",
    "        vols_flip = np.abs(det(deln_flip[:, :dims, :] - deln_flip[:, dims:, :])) / np.math.factorial(dims) #get areas\n",
    "        \n",
    "        \n",
    "        n = 1000 #number of models in the ensamblex\n",
    "        models_in_ensemble = samp_in_hull_after(deln_flip, vols_flip, n)\n",
    "        ensamble_test_predition = get_mode_prediction(models_in_ensemble, np_X_test)\n",
    "\n",
    "        \n",
    "        avg_acc_ensembles_test += np.mean(ensamble_test_predition[0] == Y_test)\n",
    "        avg_acc_optimal_test += np.mean(get_thresholded(pred_flip) == Y_test)\n",
    "    \n",
    "    \n",
    "    acc_ensembles_test[j] = avg_acc_ensembles_test / montecarlo_tries\n",
    "    acc_optimal_test[j] = avg_acc_optimal_test / montecarlo_tries\n",
    "    print(acc_ensembles_test, acc_optimal_test)\n"
   ]
  },
  {
   "cell_type": "code",
   "execution_count": null,
   "id": "765d3ad5",
   "metadata": {},
   "outputs": [],
   "source": [
    "acc_optimal_test , acc_ensembles_test"
   ]
  },
  {
   "cell_type": "code",
   "execution_count": null,
   "id": "1be759bf",
   "metadata": {},
   "outputs": [],
   "source": []
  }
 ],
 "metadata": {
  "kernelspec": {
   "display_name": "Python 3 (ipykernel)",
   "language": "python",
   "name": "python3"
  },
  "language_info": {
   "codemirror_mode": {
    "name": "ipython",
    "version": 3
   },
   "file_extension": ".py",
   "mimetype": "text/x-python",
   "name": "python",
   "nbconvert_exporter": "python",
   "pygments_lexer": "ipython3",
   "version": "3.10.4"
  }
 },
 "nbformat": 4,
 "nbformat_minor": 5
}
