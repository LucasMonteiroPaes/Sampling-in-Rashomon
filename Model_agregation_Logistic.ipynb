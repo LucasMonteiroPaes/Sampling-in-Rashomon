{
 "cells": [
  {
   "cell_type": "code",
   "execution_count": 1,
   "id": "465f777f",
   "metadata": {},
   "outputs": [],
   "source": [
    "# Importing libraries\n",
    "from copy import deepcopy\n",
    "import random\n",
    "\n",
    "\n",
    "# Math Libraries\n",
    "import random\n",
    "import math\n",
    "import numpy as np\n",
    "\n",
    "# Data Processing\n",
    "import pandas as pd\n",
    "\n",
    "# Libraries for data visualization\n",
    "import matplotlib.pyplot as plt  \n",
    "import seaborn as sns \n",
    "from sympy import var, plot_implicit\n",
    "\n",
    "# ML\n",
    "from sklearn.linear_model import LogisticRegression # Importing Logistic Model\n",
    "from sklearn.model_selection import train_test_split # Train Test Split\n",
    "from sklearn.preprocessing import MinMaxScaler # Data normalizer Min Max Scale\n",
    "from sklearn.metrics import accuracy_score, mean_squared_error, mean_absolute_error # Calculate the accuracy\n",
    "\n",
    "# Loading Bar\n",
    "from time import sleep\n",
    "from tqdm import tqdm\n",
    "\n",
    "# Convex Hull\n",
    "from scipy.spatial import ConvexHull, convex_hull_plot_2d, Delaunay\n",
    "from numpy.linalg import det\n",
    "from scipy.stats import dirichlet\n",
    "from scipy.spatial.distance import euclidean\n",
    "from scipy import stats as st\n",
    "from scipy.optimize import fmin_tnc\n",
    "\n",
    "# Supress warnings\n",
    "import warnings; warnings.simplefilter('ignore')"
   ]
  },
  {
   "cell_type": "code",
   "execution_count": 2,
   "id": "4b9200f0",
   "metadata": {},
   "outputs": [],
   "source": [
    "def Adult_Data_Clean(df: pd.DataFrame) -> pd.DataFrame:\n",
    "  # Changing collumn names for convenience\n",
    "  df.rename(columns={'capital-gain': 'gain', 'capital-loss': 'loss', 'native-country': 'country',\n",
    "                    'hours-per-week': 'hours','marital-status': 'marital'}, inplace=True)\n",
    "  \n",
    "  # Finding not known data\n",
    "  df['country'] = df['country'].replace('?',np.nan)\n",
    "  df['workclass'] = df['workclass'].replace('?',np.nan)\n",
    "  df['occupation'] = df['occupation'].replace('?',np.nan)\n",
    "  \n",
    "  # Dropping not known data\n",
    "  df.dropna(how='any',inplace=True)\n",
    "\n",
    "  # Normalizing numerical features\n",
    "  numerical = ['age', 'fnlwgt', 'educational-num', 'gain', 'loss', 'hours']\n",
    "  scaler = MinMaxScaler()\n",
    "  df[numerical] = scaler.fit_transform(df[numerical])  \n",
    "  return df"
   ]
  },
  {
   "cell_type": "code",
   "execution_count": 3,
   "id": "f998ca6e",
   "metadata": {},
   "outputs": [],
   "source": [
    "# Loading Dataset\n",
    "adult_folder = pd.read_csv('adult.csv') # Loading Adult"
   ]
  },
  {
   "cell_type": "code",
   "execution_count": 4,
   "id": "4c1c8f43",
   "metadata": {},
   "outputs": [],
   "source": [
    "adult_dataset = Adult_Data_Clean(adult_folder)\n",
    "\n",
    "# Separating label (income) from the rest of the data and making income binary\n",
    "income_raw = adult_dataset['income'].tolist()\n",
    "adult_dataset = adult_dataset.drop(['income'], axis=1)\n",
    "income = pd.Series(income_raw).astype('category').cat.codes.tolist()\n",
    "adult_dataset.drop(adult_dataset.columns.difference(['age', 'educational-num', 'gender', 'loss', 'hours']), 1, inplace=True)\n",
    "#adult_dataset.drop(adult_dataset.columns.difference(['educational-num']), 1, inplace=True)\n",
    "income = np.array(income)"
   ]
  },
  {
   "cell_type": "code",
   "execution_count": 5,
   "id": "c8340072",
   "metadata": {},
   "outputs": [],
   "source": [
    "# One-Hot encoding\n",
    "per_adult_encoded = pd.get_dummies(adult_dataset)"
   ]
  },
  {
   "cell_type": "code",
   "execution_count": 6,
   "id": "af5d43fc",
   "metadata": {},
   "outputs": [],
   "source": [
    "# Spliting dataset\n",
    "X_train, X_test, Y_train, Y_test = train_test_split(per_adult_encoded, income, test_size = 0.5, random_state = 0)"
   ]
  },
  {
   "cell_type": "markdown",
   "id": "2bd8ee95",
   "metadata": {},
   "source": [
    "## Implementing logistic RegressioN"
   ]
  },
  {
   "cell_type": "code",
   "execution_count": 7,
   "id": "3b55648c",
   "metadata": {},
   "outputs": [],
   "source": [
    "def sigmoid(x):\n",
    "    # Activation function used to map any real value between 0 and 1\n",
    "    return 1 / (1 + np.exp(-x))\n",
    "\n",
    "def net_input(theta, x):\n",
    "    # Computes the weighted sum of inputs\n",
    "    return np.dot(x, theta)\n",
    "\n",
    "def probability(theta, x):\n",
    "    # Returns the probability after passing through sigmoid\n",
    "    return sigmoid(net_input(theta, x))\n",
    "\n",
    "def get_prediction(theta, x):\n",
    "    return (probability(theta, x) > 0.5)*1\n",
    "\n",
    "def get_accuracy(theta, x, y):\n",
    "    return np.mean(get_prediction(theta, x) == y)"
   ]
  },
  {
   "cell_type": "code",
   "execution_count": 8,
   "id": "a618440d",
   "metadata": {},
   "outputs": [],
   "source": [
    "def cost_function(theta, x, y):\n",
    "    # Computes the cost function for all the training samples\n",
    "    m = x.shape[0]\n",
    "    total_cost = -(1 / m) * np.sum(\n",
    "        y * np.log(probability(theta, x)) + (1 - y) * np.log(\n",
    "            1 - probability(theta, x)))\n",
    "    return total_cost\n",
    "\n",
    "def gradient(theta, x, y):\n",
    "    # Computes the gradient of the cost function at the point theta\n",
    "    m = x.shape[0]\n",
    "    return (1 / m) * np.dot(x.T, sigmoid(net_input(theta,   x)) - y)"
   ]
  },
  {
   "cell_type": "code",
   "execution_count": 9,
   "id": "a8059169",
   "metadata": {},
   "outputs": [
    {
     "name": "stderr",
     "output_type": "stream",
     "text": [
      "  NIT   NF   F                       GTG\n",
      "    0    1  6.931471805599452E-01   1.26191641E-01\n",
      "    1    4  5.383188095841123E-01   2.08581688E-03\n",
      "tnc: fscale = 21.8959\n",
      "    2    8  4.433083945611180E-01   1.64541137E-03\n",
      "    3   12  4.318785699126444E-01   9.98432198E-05\n",
      "    4   16  4.301728999221504E-01   2.95243802E-05\n",
      "    5   20  4.295772280363814E-01   2.64152047E-06\n",
      "tnc: fscale = 615.28\n",
      "    6   24  4.294342952681910E-01   5.09196604E-08\n",
      "    7   28  4.294233031500191E-01   1.13430046E-08\n",
      "    8   32  4.294209577704940E-01   1.21546190E-08\n",
      "    9   36  4.294208614688699E-01   2.76937734E-13\n",
      "tnc: |pg| = 8.55299e-10 -> local minimum\n",
      "    9   36  4.294208614688699E-01   2.76937734E-13\n",
      "tnc: Local minima reach (|pg| ~= 0)\n"
     ]
    }
   ],
   "source": [
    "def fit(x, y, theta):\n",
    "    opt_weights = fmin_tnc(func=cost_function, x0=theta,\n",
    "                  fprime=gradient,args=(x, y.flatten())) ;\n",
    "    \n",
    "    return opt_weights[0]\n",
    "\n",
    "\n",
    "X = np.c_[np.ones((X_train.shape[0], 1)), X_train]\n",
    "theta = np.zeros((X.shape[1], 1))\n",
    "parameters = fit(X, Y_train, theta)"
   ]
  },
  {
   "cell_type": "markdown",
   "id": "f11b18ea",
   "metadata": {},
   "source": [
    "## Calculating the Rashomon set"
   ]
  },
  {
   "cell_type": "markdown",
   "id": "5dfe4038",
   "metadata": {},
   "source": [
    "### Finding points in the border"
   ]
  },
  {
   "cell_type": "code",
   "execution_count": 10,
   "id": "7f314c39",
   "metadata": {},
   "outputs": [
    {
     "name": "stderr",
     "output_type": "stream",
     "text": [
      "100%|███████████████████████████████████████| 1000/1000 [34:17<00:00,  2.06s/it]\n"
     ]
    }
   ],
   "source": [
    "center = parameters\n",
    "delta = 0.1 #Size of initial noise\n",
    "samples = 1000 #number of directions\n",
    "\n",
    "epsilon = 0.1 * cost_function(center, X, Y_train) #Rashomon set size\n",
    "\n",
    "extremes_l = np.zeros((samples, center.size))\n",
    "\n",
    "early_stopping_exploration = 1000\n",
    "for i in tqdm(range(samples)):\n",
    "    #Generationg direction\n",
    "    Z = np.random.normal(loc=0.0, scale=1.0, size=center.size)\n",
    "    Z = Z/np.linalg.norm(Z)\n",
    "    direction = center + delta * Z\n",
    "    #loading model\n",
    "    ct = 1\n",
    "    while (cost_function(direction, X, Y_train) - cost_function(center, X, Y_train)) < epsilon:\n",
    "        extremes_l[i, :] = direction\n",
    "        direction = center + ct*delta*Z\n",
    "        ct += 1\n",
    "        if ct==early_stopping_exploration:\n",
    "            break"
   ]
  },
  {
   "cell_type": "code",
   "execution_count": 11,
   "id": "2e1acb79",
   "metadata": {},
   "outputs": [
    {
     "data": {
      "text/plain": [
       "0"
      ]
     },
     "execution_count": 11,
     "metadata": {},
     "output_type": "execute_result"
    }
   ],
   "source": [
    "np.sum(extremes_l == [0,0])"
   ]
  },
  {
   "cell_type": "markdown",
   "id": "69f17d37",
   "metadata": {},
   "source": [
    "### Getting convex hull and triangulation"
   ]
  },
  {
   "cell_type": "code",
   "execution_count": 12,
   "id": "b115aec8",
   "metadata": {},
   "outputs": [],
   "source": [
    "# Sampling from Rashomon set after calculating cvx hull and triangulation\n",
    "def samp_in_hull_after(deln, vols, n):\n",
    "    sample = np.random.choice(len(vols), size = n, p = vols / vols.sum())\n",
    "    return np.einsum('ijk, ij -> ik', deln[sample], dirichlet.rvs([1]*(dims + 1), size = n))"
   ]
  },
  {
   "cell_type": "code",
   "execution_count": 13,
   "id": "acf6c5e6",
   "metadata": {},
   "outputs": [],
   "source": [
    "dims = extremes_l.shape[-1] #get dim\n",
    "hull = extremes_l[ConvexHull(extremes_l).vertices] #get hull\n",
    "deln = hull[Delaunay(hull).simplices] #get Delunay\n",
    "vols = np.abs(det(deln[:, :dims, :] - deln[:, dims:, :])) / np.math.factorial(dims) #get areas"
   ]
  },
  {
   "cell_type": "markdown",
   "id": "137c79b5",
   "metadata": {},
   "source": [
    "### Sampling models in ensamble"
   ]
  },
  {
   "cell_type": "code",
   "execution_count": 14,
   "id": "78e27e5c",
   "metadata": {},
   "outputs": [],
   "source": [
    "n = 1000 #number of models in the ensamblex\n",
    "models_in_ensemble = samp_in_hull_after(deln, vols, n)"
   ]
  },
  {
   "cell_type": "code",
   "execution_count": 15,
   "id": "3de96b5a",
   "metadata": {},
   "outputs": [
    {
     "data": {
      "image/png": "[encoded data removed]",
      "text/plain": [
       "<Figure size 432x288 with 1 Axes>"
      ]
     },
     "metadata": {
      "needs_background": "light"
     },
     "output_type": "display_data"
    }
   ],
   "source": [
    "#plt.plot(extremes_l[:, 0], extremes_l[:, 1], 'o', color='black');\n",
    "plt.plot(hull[:, 0], hull[:, 1], lw=2, color = 'red', label = 'Our Approximation')\n",
    "plt.plot(center[0], center[ 1], 'o', color='purple', label = 'Optimal Parameter');\n",
    "plt.plot([hull[0, 0], hull[-1, 0]], [hull[0, 1], hull[-1, 1]], lw=2, color = 'red')\n",
    "plt.legend()\n",
    "plt.title('Rashomon set approximation (Logistic Regression)');\n",
    "plt.savefig('Rashomon_logistic_set.pdf')"
   ]
  },
  {
   "cell_type": "markdown",
   "id": "57fe9056",
   "metadata": {},
   "source": [
    "## Getting mode predictor"
   ]
  },
  {
   "cell_type": "code",
   "execution_count": 16,
   "id": "2d113feb",
   "metadata": {},
   "outputs": [],
   "source": [
    "def get_mode_prediction(models_in_ensemble, x):\n",
    "    n_models = models_in_ensemble.shape[0]\n",
    "    pred = np.zeros((n_models, x.shape[0]))\n",
    "    for i in range(n_models):\n",
    "        pred[i] = get_prediction(models_in_ensemble[i], x) \n",
    "        \n",
    "    return st.mode(pred)[0] #np.mean(pred, axis = 0) "
   ]
  },
  {
   "cell_type": "code",
   "execution_count": 17,
   "id": "98c02f57",
   "metadata": {},
   "outputs": [
    {
     "data": {
      "text/plain": [
       "array([[0., 1., 0., ..., 0., 0., 0.]])"
      ]
     },
     "execution_count": 17,
     "metadata": {},
     "output_type": "execute_result"
    }
   ],
   "source": [
    "get_mode_prediction(models_in_ensemble, X)"
   ]
  },
  {
   "cell_type": "markdown",
   "id": "e32a5207",
   "metadata": {},
   "source": [
    "### Evaluating mode"
   ]
  },
  {
   "cell_type": "code",
   "execution_count": 18,
   "id": "61694eaf",
   "metadata": {},
   "outputs": [
    {
     "name": "stderr",
     "output_type": "stream",
     "text": [
      "100%|█████████████████████████████████████████████| 1/1 [00:22<00:00, 22.58s/it]"
     ]
    },
    {
     "name": "stdout",
     "output_type": "stream",
     "text": [
      "-11.9\n"
     ]
    },
    {
     "name": "stderr",
     "output_type": "stream",
     "text": [
      "\n"
     ]
    }
   ],
   "source": [
    "montecarlo_tries = 200\n",
    "avg_ensamble_disagreement = 0\n",
    "avg_optimal_disagreement = 0\n",
    "\n",
    "n_range= np.array([10000])\n",
    "n_size = len(n_range)\n",
    "acc_ensembles = np.zeros(n_size)\n",
    "disagreements_difference = np.zeros(n_size)\n",
    "pred = get_prediction(center, X)\n",
    "\n",
    "for j in tqdm(range(n_size)):\n",
    "    avg_ensamble_disagreement = 0\n",
    "    avg_optimal_disagreement = 0\n",
    "    \n",
    "    models_in_ensemble = samp_in_hull_after(deln, vols, n_range[j])\n",
    "    ensamble_predition = get_mode_prediction(models_in_ensemble, X)\n",
    "    \n",
    "    for i in range(montecarlo_tries):    \n",
    "        random_model_pred = get_prediction(samp_in_hull_after(deln, vols, 1)[0], X)\n",
    "        \n",
    "        avg_ensamble_disagreement += np.sum(ensamble_predition != random_model_pred)\n",
    "        avg_optimal_disagreement += np.sum(pred != random_model_pred)\n",
    "    \n",
    "    print( (avg_ensamble_disagreement - avg_optimal_disagreement) /  montecarlo_tries )\n",
    "    \n",
    "    disagreements_difference[j] = (avg_optimal_disagreement-avg_ensamble_disagreement) / montecarlo_tries\n",
    "    acc_ensembles[j] = np.mean(ensamble_predition == Y_train)\n",
    "\n"
   ]
  },
  {
   "cell_type": "code",
   "execution_count": null,
   "id": "fde5dc11",
   "metadata": {},
   "outputs": [],
   "source": [
    "acc_ensembles, disagreements_difference"
   ]
  },
  {
   "cell_type": "code",
   "execution_count": null,
   "id": "04b58bf4",
   "metadata": {},
   "outputs": [],
   "source": [
    "get_accuracy(parameters, X, Y_train)"
   ]
  },
  {
   "cell_type": "markdown",
   "id": "539244a7",
   "metadata": {},
   "source": [
    "## Getting percentage of different predictions"
   ]
  },
  {
   "cell_type": "code",
   "execution_count": null,
   "id": "c5eae04e",
   "metadata": {},
   "outputs": [],
   "source": [
    "def get_all_prediction(models_in_ensemble, x):\n",
    "    n_models = models_in_ensemble.shape[0]\n",
    "    pred = np.zeros((n_models, x.shape[0]))\n",
    "    for i in range(n_models):\n",
    "        pred[i] = get_prediction(models_in_ensemble[i], x) \n",
    "        \n",
    "    return pred"
   ]
  },
  {
   "cell_type": "code",
   "execution_count": null,
   "id": "32d9c065",
   "metadata": {},
   "outputs": [],
   "source": [
    "models_in_ensemble = samp_in_hull_after(deln, vols, 10000)"
   ]
  },
  {
   "cell_type": "code",
   "execution_count": null,
   "id": "cb57444d",
   "metadata": {},
   "outputs": [],
   "source": [
    "predictions = get_all_prediction(models_in_ensemble, X)"
   ]
  },
  {
   "cell_type": "code",
   "execution_count": null,
   "id": "498012cb",
   "metadata": {},
   "outputs": [],
   "source": [
    "prob = np.mean(predictions, axis = 0)"
   ]
  },
  {
   "cell_type": "code",
   "execution_count": null,
   "id": "d2685a1a",
   "metadata": {},
   "outputs": [],
   "source": [
    "plt.hist(prob, bins=5)\n",
    "plt.xlabel('Prob. of prediction = 1')\n",
    "plt.savefig('histogram_high_freq.pdf')\n",
    "plt.show()"
   ]
  },
  {
   "cell_type": "code",
   "execution_count": null,
   "id": "586eb5a4",
   "metadata": {},
   "outputs": [],
   "source": []
  }
 ],
 "metadata": {
  "kernelspec": {
   "display_name": "Python 3 (ipykernel)",
   "language": "python",
   "name": "python3"
  },
  "language_info": {
   "codemirror_mode": {
    "name": "ipython",
    "version": 3
   },
   "file_extension": ".py",
   "mimetype": "text/x-python",
   "name": "python",
   "nbconvert_exporter": "python",
   "pygments_lexer": "ipython3",
   "version": "3.10.4"
  }
 },
 "nbformat": 4,
 "nbformat_minor": 5
}
