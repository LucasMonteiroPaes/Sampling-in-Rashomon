{
 "cells": [
  {
   "cell_type": "code",
   "execution_count": 3,
   "id": "f964bd06",
   "metadata": {},
   "outputs": [],
   "source": [
    "# Importing libraries\n",
    "from copy import deepcopy\n",
    "import random\n",
    "\n",
    "\n",
    "# Math Libraries\n",
    "import random\n",
    "import math\n",
    "import numpy as np\n",
    "\n",
    "# Data Processing\n",
    "import pandas as pd\n",
    "\n",
    "# Libraries for data visualization\n",
    "import matplotlib.pyplot as plt  \n",
    "import seaborn as sns \n",
    "from sympy import var, plot_implicit\n",
    "\n",
    "# ML\n",
    "from sklearn.linear_model import LogisticRegression # Importing Logistic Model\n",
    "from sklearn.model_selection import train_test_split # Train Test Split\n",
    "from sklearn.preprocessing import MinMaxScaler # Data normalizer Min Max Scale\n",
    "from sklearn.metrics import accuracy_score, mean_squared_error, mean_absolute_error # Calculate the accuracy\n",
    "from sklearn.svm import LinearSVC\n",
    "# Loading Bar\n",
    "from time import sleep\n",
    "from tqdm import tqdm\n",
    "\n",
    "# Convex Hull\n",
    "from scipy.spatial import ConvexHull, convex_hull_plot_2d, Delaunay\n",
    "from numpy.linalg import det\n",
    "from scipy.stats import dirichlet\n",
    "from scipy.spatial.distance import euclidean\n",
    "from scipy import stats as st\n",
    "from scipy.optimize import fmin_tnc\n",
    "\n",
    "# Supress warnings\n",
    "import warnings; warnings.simplefilter('ignore')"
   ]
  },
  {
   "cell_type": "code",
   "execution_count": 4,
   "id": "4300c8b1",
   "metadata": {},
   "outputs": [],
   "source": [
    "def Adult_Data_Clean(df: pd.DataFrame) -> pd.DataFrame:\n",
    "  # Changing collumn names for convenience\n",
    "  df.rename(columns={'capital-gain': 'gain', 'capital-loss': 'loss', 'native-country': 'country',\n",
    "                    'hours-per-week': 'hours','marital-status': 'marital'}, inplace=True)\n",
    "  \n",
    "  # Finding not known data\n",
    "  df['country'] = df['country'].replace('?',np.nan)\n",
    "  df['workclass'] = df['workclass'].replace('?',np.nan)\n",
    "  df['occupation'] = df['occupation'].replace('?',np.nan)\n",
    "  \n",
    "  # Dropping not known data\n",
    "  df.dropna(how='any',inplace=True)\n",
    "\n",
    "  # Normalizing numerical features\n",
    "  numerical = ['age', 'fnlwgt', 'educational-num', 'gain', 'loss', 'hours']\n",
    "  scaler = MinMaxScaler()\n",
    "  df[numerical] = scaler.fit_transform(df[numerical])  \n",
    "  return df"
   ]
  },
  {
   "cell_type": "code",
   "execution_count": 5,
   "id": "4d2266e1",
   "metadata": {},
   "outputs": [],
   "source": [
    "# Loading Dataset\n",
    "adult_folder = pd.read_csv('adult.csv') # Loading Adult"
   ]
  },
  {
   "cell_type": "code",
   "execution_count": 6,
   "id": "2e5580cd",
   "metadata": {},
   "outputs": [],
   "source": [
    "adult_dataset = Adult_Data_Clean(adult_folder)\n",
    "\n",
    "# Separating label (income) from the rest of the data and making income binary\n",
    "income_raw = adult_dataset['income'].tolist()\n",
    "adult_dataset = adult_dataset.drop(['income'], axis=1)\n",
    "income = pd.Series(income_raw).astype('category').cat.codes.tolist()\n",
    "adult_dataset.drop(adult_dataset.columns.difference(['age', 'educational-num', 'fnlwgt', 'gender', 'loss', 'hours']), 1, inplace=True)\n",
    "#adult_dataset.drop(adult_dataset.columns.difference(['educational-num']), 1, inplace=True)\n",
    "income = 2*np.array(income) - 1"
   ]
  },
  {
   "cell_type": "code",
   "execution_count": 7,
   "id": "e8e0e2a9",
   "metadata": {},
   "outputs": [],
   "source": [
    "# One-Hot encoding\n",
    "per_adult_encoded = pd.get_dummies(adult_dataset)"
   ]
  },
  {
   "cell_type": "code",
   "execution_count": 8,
   "id": "86d89636",
   "metadata": {},
   "outputs": [],
   "source": [
    "# Spliting dataset\n",
    "X_train, X_test, Y_train, Y_test = train_test_split(per_adult_encoded, income, test_size = 0.5, random_state = 0)"
   ]
  },
  {
   "cell_type": "markdown",
   "id": "010bdf42",
   "metadata": {},
   "source": [
    "## Implementing SVM"
   ]
  },
  {
   "cell_type": "code",
   "execution_count": 9,
   "id": "d5f992d8",
   "metadata": {},
   "outputs": [],
   "source": [
    "def get_prediction(W, x):\n",
    "    return np.sign(np.dot(x, W))\n",
    "\n",
    "def get_parameter(model):\n",
    "    coef = model.coef_[0]\n",
    "    bias = model.intercept_\n",
    "    return np.concatenate((coef, bias))\n",
    "\n",
    "def get_accuracy(W, X, Y):\n",
    "    return np.mean(get_prediction(W, X) == Y)\n",
    "\n",
    "def squared_hinge_fun(par, y_pred, y_true):\n",
    "    # calculating hinge loss\n",
    "    hinge_loss = np.mean([max(0, 1-x*y)**2 for x, y in zip(y_pred, y_true)])\n",
    "    return hinge_loss + np.dot(par, par)\n",
    "\n",
    "def eval_parameter(par, x, y):\n",
    "    return squared_hinge_fun(par, get_prediction(par, x), y)"
   ]
  },
  {
   "cell_type": "code",
   "execution_count": 10,
   "id": "be7f4a10",
   "metadata": {},
   "outputs": [],
   "source": [
    "# finding optimal parameter\n",
    "svclassifier = LinearSVC(loss='squared_hinge')\n",
    "svclassifier.fit(X_train, Y_train)\n",
    "omega_hat = get_parameter(svclassifier)"
   ]
  },
  {
   "cell_type": "code",
   "execution_count": 11,
   "id": "05640d34",
   "metadata": {},
   "outputs": [
    {
     "data": {
      "text/plain": [
       "0.7980186634823758"
      ]
     },
     "execution_count": 11,
     "metadata": {},
     "output_type": "execute_result"
    }
   ],
   "source": [
    "X = np.c_[X_train, np.ones( (X_train.shape[0], 1) )]\n",
    "reference_loss = squared_hinge_fun(omega_hat, get_prediction(omega_hat, X), Y_train)\n",
    "get_accuracy(omega_hat, X, Y_train)"
   ]
  },
  {
   "cell_type": "markdown",
   "id": "aaa71585",
   "metadata": {},
   "source": [
    "## Calculating the Rashomon set"
   ]
  },
  {
   "cell_type": "code",
   "execution_count": 32,
   "id": "a8b1c3d8",
   "metadata": {},
   "outputs": [
    {
     "name": "stderr",
     "output_type": "stream",
     "text": [
      "100%|███████████████████████████████████████| 1000/1000 [08:36<00:00,  1.94it/s]\n"
     ]
    }
   ],
   "source": [
    "center = omega_hat\n",
    "delta = .1 #Size of initial noise\n",
    "samples = 1000 #number of directions\n",
    "epsilon = 0.01 * reference_loss #Rashomon set size\n",
    "\n",
    "extremes_l = np.zeros((samples, center.size))\n",
    "\n",
    "early_stopping_exploration = 1000\n",
    "for i in tqdm(range(samples)):\n",
    "    #Generationg direction\n",
    "    Z = np.random.normal(loc=0.0, scale=1.0, size=center.size)\n",
    "    Z = Z/np.linalg.norm(Z)\n",
    "    direction = center + delta * Z\n",
    "    #loading model\n",
    "    ct = 1\n",
    "    while (eval_parameter(direction, X, Y_train) - eval_parameter(center, X, Y_train)) < epsilon:\n",
    "        extremes_l[i, :] = direction\n",
    "        direction = center + ct*delta*Z\n",
    "        ct += 1\n",
    "        if ct==early_stopping_exploration:\n",
    "            break"
   ]
  },
  {
   "cell_type": "code",
   "execution_count": 33,
   "id": "afaadc85",
   "metadata": {},
   "outputs": [
    {
     "data": {
      "text/plain": [
       "0"
      ]
     },
     "execution_count": 33,
     "metadata": {},
     "output_type": "execute_result"
    }
   ],
   "source": [
    "np.sum(extremes_l == [0,0])"
   ]
  },
  {
   "cell_type": "markdown",
   "id": "e042f45f",
   "metadata": {},
   "source": [
    "### Getting convex hull and triangulation"
   ]
  },
  {
   "cell_type": "code",
   "execution_count": 34,
   "id": "b55bb676",
   "metadata": {},
   "outputs": [],
   "source": [
    "# Sampling from Rashomon set after calculating cvx hull and triangulation\n",
    "def samp_in_hull_after(deln, vols, n):\n",
    "    sample = np.random.choice(len(vols), size = n, p = vols / vols.sum())\n",
    "    return np.einsum('ijk, ij -> ik', deln[sample], dirichlet.rvs([1]*(dims + 1), size = n))"
   ]
  },
  {
   "cell_type": "code",
   "execution_count": 35,
   "id": "c097528d",
   "metadata": {},
   "outputs": [],
   "source": [
    "dims = extremes_l.shape[-1] #get dim\n",
    "hull = extremes_l[ConvexHull(extremes_l).vertices] #get hull\n",
    "deln = hull[Delaunay(hull).simplices] #get Delunay\n",
    "vols = np.abs(det(deln[:, :dims, :] - deln[:, dims:, :])) / np.math.factorial(dims) #get areas"
   ]
  },
  {
   "cell_type": "markdown",
   "id": "3d3ddf8f",
   "metadata": {},
   "source": [
    "### Sampling models in ensamble"
   ]
  },
  {
   "cell_type": "code",
   "execution_count": 36,
   "id": "e642dc32",
   "metadata": {},
   "outputs": [],
   "source": [
    "n = 1000 #number of models in the ensamblex\n",
    "models_in_ensemble = samp_in_hull_after(deln, vols, n)"
   ]
  },
  {
   "cell_type": "code",
   "execution_count": 37,
   "id": "afed1438",
   "metadata": {},
   "outputs": [
    {
     "data": {
      "image/png": "[encoded data removed]",
      "text/plain": [
       "<Figure size 432x288 with 1 Axes>"
      ]
     },
     "metadata": {
      "needs_background": "light"
     },
     "output_type": "display_data"
    }
   ],
   "source": [
    "#plt.plot(extremes_l[:, 0], extremes_l[:, 1], 'o', color='black');\n",
    "plt.plot(hull[:, 0], hull[:, 1], lw=2, color = 'red', label = 'Our Approximation')\n",
    "plt.plot(center[0], center[ 1], 'o', color='purple', label = 'Optimal Parameter');\n",
    "plt.plot([hull[0, 0], hull[-1, 0]], [hull[0, 1], hull[-1, 1]], lw=2, color = 'red')\n",
    "plt.legend()\n",
    "plt.title('Rashomon set approximation (SVM)');\n",
    "plt.savefig('Rashomon_SVM_set.pdf')"
   ]
  },
  {
   "cell_type": "markdown",
   "id": "3d5ef28f",
   "metadata": {},
   "source": [
    "## Getting mode predictor"
   ]
  },
  {
   "cell_type": "code",
   "execution_count": 38,
   "id": "b50f2d30",
   "metadata": {},
   "outputs": [],
   "source": [
    "def get_mode_prediction(models_in_ensemble, x):\n",
    "    n_models = models_in_ensemble.shape[0]\n",
    "    pred = np.zeros((n_models, x.shape[0]))\n",
    "    for i in range(n_models):\n",
    "        pred[i] = get_prediction(models_in_ensemble[i], x) \n",
    "        \n",
    "    return st.mode(pred)[0] #np.mean(pred, axis = 0) "
   ]
  },
  {
   "cell_type": "code",
   "execution_count": 39,
   "id": "3f92d2ae",
   "metadata": {},
   "outputs": [
    {
     "data": {
      "text/plain": [
       "array([[-1., -1., -1., ..., -1., -1., -1.]])"
      ]
     },
     "execution_count": 39,
     "metadata": {},
     "output_type": "execute_result"
    }
   ],
   "source": [
    "get_mode_prediction(models_in_ensemble, X)"
   ]
  },
  {
   "cell_type": "code",
   "execution_count": 115,
   "id": "c32e5253",
   "metadata": {},
   "outputs": [
    {
     "name": "stderr",
     "output_type": "stream",
     "text": [
      "100%|█████████████████████████████████████| 10000/10000 [19:44<00:00,  8.44it/s]\n",
      "100%|█████████████████████████████████████| 10000/10000 [19:44<00:00,  8.44it/s]\n",
      "100%|█████████████████████████████████████| 10000/10000 [19:58<00:00,  8.34it/s]\n",
      "100%|█████████████████████████████████████| 10000/10000 [19:59<00:00,  8.34it/s]\n",
      "100%|█████████████████████████████████████| 10000/10000 [14:01<00:00, 11.88it/s]\n"
     ]
    }
   ],
   "source": [
    "montecarlo_tries = 10000\n",
    "avg_ensamble_disagreement = 0\n",
    "avg_optimal_disagreement = 0\n",
    "\n",
    "n_range= np.array([15, 20, 50, 500, 1000])\n",
    "n_size = len(n_range)\n",
    "acc_ensembles = np.zeros((n_size, montecarlo_tries))\n",
    "disagreements_difference = np.zeros((n_size, montecarlo_tries))\n",
    "center_pred =  get_prediction(center, X)\n",
    "\n",
    "for j in range(n_size):\n",
    "    avg_ensamble_disagreement = 0\n",
    "    avg_optimal_disagreement = 0\n",
    "    \n",
    "    models_in_ensemble = samp_in_hull_after(deln, vols, n_range[j])\n",
    "    ensamble_predition = get_mode_prediction(models_in_ensemble, X)\n",
    "    \n",
    "    for i in tqdm(range(montecarlo_tries)):    \n",
    "        random_model_pred = get_prediction(samp_in_hull_after(deln, vols, 1)[0], X)\n",
    "        \n",
    "#         avg_ensamble_disagreement += np.sum(ensamble_predition != random_model_pred)\n",
    "#         avg_optimal_disagreement += np.sum( get_prediction(center, X) != random_model_pred)\n",
    "    \n",
    "        disagreements_difference[j, i] = np.sum(center_pred != random_model_pred) - np.sum(ensamble_predition != random_model_pred)\n",
    "        acc_ensembles[j, i] = np.mean(ensamble_predition == Y_train)\n",
    "        \n",
    "#         disagreements_difference[j] = - avg_ensamble_disagreement/montecarlo_tries + avg_optimal_disagreement/montecarlo_tries\n",
    "#         acc_ensembles[j] = np.mean(ensamble_predition == Y_train)\n"
   ]
  },
  {
   "cell_type": "code",
   "execution_count": 116,
   "id": "45bf2dab",
   "metadata": {},
   "outputs": [
    {
     "data": {
      "text/plain": [
       "(array([0.75441157, 0.7600283 , 0.7571536 , 0.7598514 , 0.76055902]),\n",
       " array([274.6914, 310.47  , 304.1614, 343.7548, 269.9592]))"
      ]
     },
     "execution_count": 116,
     "metadata": {},
     "output_type": "execute_result"
    }
   ],
   "source": [
    "np.mean(acc_ensembles, axis = 1), np.mean(disagreements_difference, axis = 1)"
   ]
  },
  {
   "cell_type": "code",
   "execution_count": 129,
   "id": "b69c7e73",
   "metadata": {},
   "outputs": [
    {
     "data": {
      "text/plain": [
       "BootstrapResult(confidence_interval=ConfidenceInterval(low=294.2581714030891, high=394.28267155455603), standard_error=25.696504430481983)"
      ]
     },
     "execution_count": 129,
     "metadata": {},
     "output_type": "execute_result"
    }
   ],
   "source": [
    "rng = np.random.default_rng()\n",
    "res = st.bootstrap((disagreements_difference[3],), np.mean, confidence_level=0.95, random_state=rng)\n",
    "res"
   ]
  },
  {
   "cell_type": "code",
   "execution_count": 131,
   "id": "0995e593",
   "metadata": {},
   "outputs": [
    {
     "data": {
      "text/plain": [
       "BootstrapResult(confidence_interval=ConfidenceInterval(low=0.7598513997611782, high=0.7598513997611782), standard_error=0.0)"
      ]
     },
     "execution_count": 131,
     "metadata": {},
     "output_type": "execute_result"
    }
   ],
   "source": [
    "rng = np.random.default_rng()\n",
    "res = st.bootstrap((acc_ensembles[3],), np.mean, confidence_level=0.95, random_state=rng, method = 'percentile')\n",
    "res"
   ]
  },
  {
   "cell_type": "code",
   "execution_count": 130,
   "id": "1935af30",
   "metadata": {},
   "outputs": [
    {
     "data": {
      "text/plain": [
       "(49.49662859691091, 50.52787155455604)"
      ]
     },
     "execution_count": 130,
     "metadata": {},
     "output_type": "execute_result"
    }
   ],
   "source": [
    "343.7548 - 294.2581714030891, 394.28267155455603 - 343.7548"
   ]
  },
  {
   "cell_type": "code",
   "execution_count": 88,
   "id": "d792e966",
   "metadata": {},
   "outputs": [
    {
     "data": {
      "text/plain": [
       "(array([0.75918801, 0.75918801, 0.75918801, 0.75918801, 0.75918801,\n",
       "        0.75918801, 0.75918801, 0.75918801, 0.75918801, 0.75918801]),)"
      ]
     },
     "execution_count": 88,
     "metadata": {},
     "output_type": "execute_result"
    }
   ],
   "source": [
    "b"
   ]
  },
  {
   "cell_type": "code",
   "execution_count": 24,
   "id": "9bbd4984",
   "metadata": {},
   "outputs": [
    {
     "data": {
      "text/plain": [
       "array([ 0.73806517,  2.45663895,  2.34394635,  5.33556337, -1.22642987,\n",
       "       -0.98953971,  2.0517823 , -3.7555521 ,  6.39134995,  9.56367722,\n",
       "        7.26099543, -2.29216057, -3.67918047,  3.44218649,  4.86743582,\n",
       "        0.97751561,  4.38829687,  0.98093418, -3.4370054 , -0.93435419,\n",
       "        9.47864557,  6.91637612, -0.21269389, -1.71186706,  4.21174654,\n",
       "        7.2149373 ,  1.16574559,  2.5207006 , 10.02573911, -4.71668965,\n",
       "        4.7996719 ,  7.11570189, -7.56959031, -5.27336176,  7.40275099,\n",
       "       -2.80847786,  2.327643  , -3.89903404,  6.58463049, -1.53078982,\n",
       "        4.44978653,  1.88280174,  2.22582935,  9.40396549,  2.56931928,\n",
       "        0.02175121,  0.69695267,  2.49629881,  0.45145197,  3.20837338,\n",
       "        5.8010331 , 10.2965826 ,  4.30024675, -0.496787  ,  0.85711741,\n",
       "        5.88628032, -1.91142095,  3.72644342,  5.38293304, -1.52198422,\n",
       "       -1.78905003,  0.77866129, -4.48791847,  5.13748639,  4.2036565 ,\n",
       "       -3.40039175,  7.23066605,  3.63332122,  9.4461781 ,  1.97727636,\n",
       "        6.87333993,  0.19850307,  0.20797206,  0.36049981,  0.76383774,\n",
       "       -9.56314398, -3.35555179,  3.06718473, -0.06702059,  9.5769971 ,\n",
       "       -0.15602941, -2.07633864, -0.30027792,  1.94419801, -0.59708774,\n",
       "        3.18920848, -2.99187433, -3.53508076,  0.1397699 ,  1.30520416,\n",
       "       -1.43321319,  9.59175147,  3.84528829,  6.64541735,  8.27164268,\n",
       "        6.84795376,  5.42723914,  2.43263492, -0.64679397,  0.7749203 ])"
      ]
     },
     "execution_count": 24,
     "metadata": {},
     "output_type": "execute_result"
    }
   ],
   "source": [
    "dist = st.norm(loc=2, scale=4)  # our \"unknown\" distribution\n",
    "data = dist.rvs(size=100, random_state=rng)"
   ]
  },
  {
   "cell_type": "code",
   "execution_count": null,
   "id": "d0384e6c",
   "metadata": {},
   "outputs": [],
   "source": [
    "plt.plot(disagreements_difference[0], 'o')\n",
    "plt.show()"
   ]
  },
  {
   "cell_type": "code",
   "execution_count": 31,
   "id": "298cc8ea",
   "metadata": {},
   "outputs": [
    {
     "data": {
      "text/plain": [
       "array([[-2910., -2916.,  2910., ..., -2910., -2206., -2926.],\n",
       "       [ 2687., -2407.,  2945., ...,  2655., -1577., -2659.],\n",
       "       [ 2915.,  2897.,  2973., ..., -2729., -2971., -2223.],\n",
       "       [-2951., -2789.,  -657., ..., -2951., -2879., -2943.]])"
      ]
     },
     "execution_count": 31,
     "metadata": {},
     "output_type": "execute_result"
    }
   ],
   "source": []
  }
 ],
 "metadata": {
  "kernelspec": {
   "display_name": "Python 3 (ipykernel)",
   "language": "python",
   "name": "python3"
  },
  "language_info": {
   "codemirror_mode": {
    "name": "ipython",
    "version": 3
   },
   "file_extension": ".py",
   "mimetype": "text/x-python",
   "name": "python",
   "nbconvert_exporter": "python",
   "pygments_lexer": "ipython3",
   "version": "3.10.4"
  }
 },
 "nbformat": 4,
 "nbformat_minor": 5
}
